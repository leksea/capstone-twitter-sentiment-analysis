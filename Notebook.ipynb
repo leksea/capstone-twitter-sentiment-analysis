{
  "cells": [
    {
      "cell_type": "markdown",
      "id": "70934233-4e52-4f0f-883b-56cbc48f299c",
      "metadata": {
        "id": "70934233-4e52-4f0f-883b-56cbc48f299c"
      },
      "source": [
        "# Twitter Sentiment Analysis."
      ]
    },
    {
      "cell_type": "markdown",
      "id": "3d78d833-547c-4b7c-8527-1c64eef0d3cc",
      "metadata": {
        "id": "3d78d833-547c-4b7c-8527-1c64eef0d3cc"
      },
      "source": [
        "## Business Problem.\n",
        "\n",
        "We want to analyze a COVID-19 Twitter dataset to understand how positive and negative trends spread after news announcements. Additionally, we want to use a bot detection algorithm to determine what percentage of each sentiment is made up of bots and how this affects the general sentiment of the public (non-bots).\n",
        "\n",
        "Key Questions:\n",
        "\n",
        "How do positive and negative sentiments spread among users after a news announcement related to COVID-19?\n",
        "What proportion of tweets in each sentiment category (positive/negative/neutral) come from bots?\n",
        "How do bots influence the general sentiment of non-bot users?\n",
        "Purpose:\n",
        "\n",
        "Help media outlets measure the impact of their announcements on public sentiment.\n",
        "Assist public health agencies in identifying misinformation or bot-driven content to improve communication strategies.\n",
        "Support social media platforms in detecting and limiting bot activity that could distort public opinion.\n",
        "Goals:\n",
        "\n",
        "Track sentiment trends over time.\n",
        "Quantify bot participation in each sentiment category.\n",
        "Measure the influence of bots on genuine public sentiment."
      ]
    },
    {
      "cell_type": "markdown",
      "source": [
        "## Datasets.\n",
        "\n",
        "1. [A Twitter Dataset of 40+ million tweets related to COVID-19](https://zenodo.org/records/3723940)\n",
        "\n",
        "2. [Twitter Bots Accounts.](https://www.kaggle.com/datasets/davidmartngutirrez/twitter-bots-accounts)\n"
      ],
      "metadata": {
        "id": "lSJyODVEaJZs"
      },
      "id": "lSJyODVEaJZs"
    },
    {
      "cell_type": "code",
      "source": [],
      "metadata": {
        "id": "st62fukEaHir"
      },
      "id": "st62fukEaHir",
      "execution_count": null,
      "outputs": []
    }
  ],
  "metadata": {
    "kernelspec": {
      "display_name": "Python 3 (ipykernel)",
      "language": "python",
      "name": "python3"
    },
    "language_info": {
      "codemirror_mode": {
        "name": "ipython",
        "version": 3
      },
      "file_extension": ".py",
      "mimetype": "text/x-python",
      "name": "python",
      "nbconvert_exporter": "python",
      "pygments_lexer": "ipython3",
      "version": "3.8.20"
    },
    "colab": {
      "provenance": []
    }
  },
  "nbformat": 4,
  "nbformat_minor": 5
}
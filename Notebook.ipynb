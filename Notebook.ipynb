{
 "cells": [
  {
   "cell_type": "markdown",
   "id": "70934233-4e52-4f0f-883b-56cbc48f299c",
   "metadata": {},
   "source": [
    "# Twitter Sentiment Analysis."
   ]
  },
  {
   "cell_type": "markdown",
   "id": "3d78d833-547c-4b7c-8527-1c64eef0d3cc",
   "metadata": {},
   "source": [
    "## Business Problem."
   ]
  }
 ],
 "metadata": {
  "kernelspec": {
   "display_name": "Python 3 (ipykernel)",
   "language": "python",
   "name": "python3"
  },
  "language_info": {
   "codemirror_mode": {
    "name": "ipython",
    "version": 3
   },
   "file_extension": ".py",
   "mimetype": "text/x-python",
   "name": "python",
   "nbconvert_exporter": "python",
   "pygments_lexer": "ipython3",
   "version": "3.8.20"
  }
 },
 "nbformat": 4,
 "nbformat_minor": 5
}

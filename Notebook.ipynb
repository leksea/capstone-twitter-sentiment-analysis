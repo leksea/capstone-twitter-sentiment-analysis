{
  "cells": [
    {
      "cell_type": "markdown",
      "id": "70934233-4e52-4f0f-883b-56cbc48f299c",
      "metadata": {
        "id": "70934233-4e52-4f0f-883b-56cbc48f299c"
      },
      "source": [
        "# Twitter Sentiment Analysis."
      ]
    },
    {
      "cell_type": "markdown",
      "id": "3d78d833-547c-4b7c-8527-1c64eef0d3cc",
      "metadata": {
        "id": "3d78d833-547c-4b7c-8527-1c64eef0d3cc"
      },
      "source": [
        "## Business Problem.\n",
        "\n",
        "We want to analyze a COVID-19 Twitter dataset to understand how positive and negative trends spread after news announcements.\n",
        "\n",
        "Key Questions:\n",
        "\n",
        "How do positive and negative sentiments spread among users after a news announcement related to COVID-19?\n",
        "\n",
        "Purpose:\n",
        "\n",
        "Help media outlets measure the impact of their announcements on public sentiment.\n",
        "\n",
        "Goals:\n",
        "\n",
        "Track sentiment trends over time.\n"
      ]
    },
    {
      "cell_type": "markdown",
      "source": [
        "## Dataset location and download instructions.\n",
        "\n",
        "[Covid-19 Twitter Dataset](https://www.kaggle.com/datasets/arunavakrchakraborty/covid19-twitter-dataset/data)\n",
        "\n",
        "\n",
        "* Place datasets into ```Data``` folder if running the notebook locally.\n",
        "* Upload the files into ```/content``` root file folder of Colab environment."
      ],
      "metadata": {
        "id": "lSJyODVEaJZs"
      },
      "id": "lSJyODVEaJZs"
    },
    {
      "cell_type": "markdown",
      "source": [
        "## Installing the required modules.\n",
        "\n",
        "We'll start with installing the requirements [available here](https://github.com/leksea/capstone-twitter-sentiment-analysis/blob/main/requirements.txt)."
      ],
      "metadata": {
        "id": "fQwFcnPjZpd9"
      },
      "id": "fQwFcnPjZpd9"
    },
    {
      "cell_type": "code",
      "source": [
        "!wget https://raw.githubusercontent.com/leksea/capstone-twitter-sentiment-analysis/main/requirements.txt\n",
        "!pip install -r 'requirements.txt'"
      ],
      "metadata": {
        "colab": {
          "base_uri": "https://localhost:8080/"
        },
        "id": "st62fukEaHir",
        "outputId": "9aab4b17-ce79-49d8-a08d-8e9f0daf6450"
      },
      "id": "st62fukEaHir",
      "execution_count": 62,
      "outputs": [
        {
          "output_type": "stream",
          "name": "stdout",
          "text": [
            "--2024-12-27 22:45:17--  https://raw.githubusercontent.com/leksea/capstone-twitter-sentiment-analysis/main/requirements.txt\n",
            "Resolving raw.githubusercontent.com (raw.githubusercontent.com)... 185.199.110.133, 185.199.111.133, 185.199.109.133, ...\n",
            "Connecting to raw.githubusercontent.com (raw.githubusercontent.com)|185.199.110.133|:443... connected.\n",
            "HTTP request sent, awaiting response... 200 OK\n",
            "Length: 114 [text/plain]\n",
            "Saving to: ‘requirements.txt’\n",
            "\n",
            "requirements.txt    100%[===================>]     114  --.-KB/s    in 0s      \n",
            "\n",
            "2024-12-27 22:45:17 (6.08 MB/s) - ‘requirements.txt’ saved [114/114]\n",
            "\n",
            "Requirement already satisfied: scikit-learn in /usr/local/lib/python3.10/dist-packages (from -r requirements.txt (line 1)) (1.6.0)\n",
            "Requirement already satisfied: scipy in /usr/local/lib/python3.10/dist-packages (from -r requirements.txt (line 2)) (1.13.1)\n",
            "Requirement already satisfied: seaborn in /usr/local/lib/python3.10/dist-packages (from -r requirements.txt (line 3)) (0.13.2)\n",
            "Requirement already satisfied: pandas in /usr/local/lib/python3.10/dist-packages (from -r requirements.txt (line 4)) (2.2.2)\n",
            "Requirement already satisfied: numpy in /usr/local/lib/python3.10/dist-packages (from -r requirements.txt (line 5)) (1.26.4)\n",
            "Requirement already satisfied: branca in /usr/local/lib/python3.10/dist-packages (from -r requirements.txt (line 6)) (0.8.1)\n",
            "Requirement already satisfied: cartopy in /usr/local/lib/python3.10/dist-packages (from -r requirements.txt (line 7)) (0.24.1)\n",
            "Requirement already satisfied: requests in /usr/local/lib/python3.10/dist-packages (from -r requirements.txt (line 8)) (2.32.3)\n",
            "Requirement already satisfied: folium in /usr/local/lib/python3.10/dist-packages (from -r requirements.txt (line 9)) (0.19.2)\n",
            "Requirement already satisfied: nltk in /usr/local/lib/python3.10/dist-packages (from -r requirements.txt (line 10)) (3.9.1)\n",
            "Requirement already satisfied: pillow in /usr/local/lib/python3.10/dist-packages (from -r requirements.txt (line 11)) (11.0.0)\n",
            "Requirement already satisfied: wordcloud in /usr/local/lib/python3.10/dist-packages (from -r requirements.txt (line 12)) (1.9.4)\n",
            "Requirement already satisfied: tqdm in /usr/local/lib/python3.10/dist-packages (from -r requirements.txt (line 13)) (4.67.1)\n",
            "Requirement already satisfied: emot in /usr/local/lib/python3.10/dist-packages (from -r requirements.txt (line 14)) (3.1)\n",
            "Requirement already satisfied: geopy in /usr/local/lib/python3.10/dist-packages (from -r requirements.txt (line 15)) (2.4.1)\n",
            "Requirement already satisfied: joblib>=1.2.0 in /usr/local/lib/python3.10/dist-packages (from scikit-learn->-r requirements.txt (line 1)) (1.4.2)\n",
            "Requirement already satisfied: threadpoolctl>=3.1.0 in /usr/local/lib/python3.10/dist-packages (from scikit-learn->-r requirements.txt (line 1)) (3.5.0)\n",
            "Requirement already satisfied: matplotlib!=3.6.1,>=3.4 in /usr/local/lib/python3.10/dist-packages (from seaborn->-r requirements.txt (line 3)) (3.8.0)\n",
            "Requirement already satisfied: python-dateutil>=2.8.2 in /usr/local/lib/python3.10/dist-packages (from pandas->-r requirements.txt (line 4)) (2.8.2)\n",
            "Requirement already satisfied: pytz>=2020.1 in /usr/local/lib/python3.10/dist-packages (from pandas->-r requirements.txt (line 4)) (2024.2)\n",
            "Requirement already satisfied: tzdata>=2022.7 in /usr/local/lib/python3.10/dist-packages (from pandas->-r requirements.txt (line 4)) (2024.2)\n",
            "Requirement already satisfied: jinja2>=3 in /usr/local/lib/python3.10/dist-packages (from branca->-r requirements.txt (line 6)) (3.1.4)\n",
            "Requirement already satisfied: shapely>=1.8 in /usr/local/lib/python3.10/dist-packages (from cartopy->-r requirements.txt (line 7)) (2.0.6)\n",
            "Requirement already satisfied: packaging>=21 in /usr/local/lib/python3.10/dist-packages (from cartopy->-r requirements.txt (line 7)) (24.2)\n",
            "Requirement already satisfied: pyshp>=2.3 in /usr/local/lib/python3.10/dist-packages (from cartopy->-r requirements.txt (line 7)) (2.3.1)\n",
            "Requirement already satisfied: pyproj>=3.3.1 in /usr/local/lib/python3.10/dist-packages (from cartopy->-r requirements.txt (line 7)) (3.7.0)\n",
            "Requirement already satisfied: charset-normalizer<4,>=2 in /usr/local/lib/python3.10/dist-packages (from requests->-r requirements.txt (line 8)) (3.4.0)\n",
            "Requirement already satisfied: idna<4,>=2.5 in /usr/local/lib/python3.10/dist-packages (from requests->-r requirements.txt (line 8)) (3.10)\n",
            "Requirement already satisfied: urllib3<3,>=1.21.1 in /usr/local/lib/python3.10/dist-packages (from requests->-r requirements.txt (line 8)) (2.2.3)\n",
            "Requirement already satisfied: certifi>=2017.4.17 in /usr/local/lib/python3.10/dist-packages (from requests->-r requirements.txt (line 8)) (2024.12.14)\n",
            "Requirement already satisfied: xyzservices in /usr/local/lib/python3.10/dist-packages (from folium->-r requirements.txt (line 9)) (2024.9.0)\n",
            "Requirement already satisfied: click in /usr/local/lib/python3.10/dist-packages (from nltk->-r requirements.txt (line 10)) (8.1.7)\n",
            "Requirement already satisfied: regex>=2021.8.3 in /usr/local/lib/python3.10/dist-packages (from nltk->-r requirements.txt (line 10)) (2024.11.6)\n",
            "Requirement already satisfied: geographiclib<3,>=1.52 in /usr/local/lib/python3.10/dist-packages (from geopy->-r requirements.txt (line 15)) (2.0)\n",
            "Requirement already satisfied: MarkupSafe>=2.0 in /usr/local/lib/python3.10/dist-packages (from jinja2>=3->branca->-r requirements.txt (line 6)) (3.0.2)\n",
            "Requirement already satisfied: contourpy>=1.0.1 in /usr/local/lib/python3.10/dist-packages (from matplotlib!=3.6.1,>=3.4->seaborn->-r requirements.txt (line 3)) (1.3.1)\n",
            "Requirement already satisfied: cycler>=0.10 in /usr/local/lib/python3.10/dist-packages (from matplotlib!=3.6.1,>=3.4->seaborn->-r requirements.txt (line 3)) (0.12.1)\n",
            "Requirement already satisfied: fonttools>=4.22.0 in /usr/local/lib/python3.10/dist-packages (from matplotlib!=3.6.1,>=3.4->seaborn->-r requirements.txt (line 3)) (4.55.3)\n",
            "Requirement already satisfied: kiwisolver>=1.0.1 in /usr/local/lib/python3.10/dist-packages (from matplotlib!=3.6.1,>=3.4->seaborn->-r requirements.txt (line 3)) (1.4.7)\n",
            "Requirement already satisfied: pyparsing>=2.3.1 in /usr/local/lib/python3.10/dist-packages (from matplotlib!=3.6.1,>=3.4->seaborn->-r requirements.txt (line 3)) (3.2.0)\n",
            "Requirement already satisfied: six>=1.5 in /usr/local/lib/python3.10/dist-packages (from python-dateutil>=2.8.2->pandas->-r requirements.txt (line 4)) (1.17.0)\n"
          ]
        }
      ]
    },
    {
      "cell_type": "markdown",
      "source": [
        "### Importing modules."
      ],
      "metadata": {
        "id": "Zd0e2IvvfuDJ"
      },
      "id": "Zd0e2IvvfuDJ"
    },
    {
      "cell_type": "code",
      "source": [
        "# built-in modules\n",
        "import os\n",
        "import string\n",
        "import re\n",
        "import glob\n",
        "import time\n",
        "from datetime import datetime\n",
        "from concurrent.futures import ThreadPoolExecutor\n",
        "# progress bar monitoring\n",
        "from tqdm import tqdm\n",
        "# data manupulation, analysis\n",
        "import numpy as np\n",
        "import pandas as pd\n",
        "# general data visualization\n",
        "import matplotlib.pyplot as plt\n",
        "import seaborn as sns\n",
        "# world maps\n",
        "from folium import plugins\n",
        "from folium.plugins import HeatMap\n",
        "import branca.colormap as cm\n",
        "import cartopy.crs as ccrs\n",
        "import cartopy.feature as cfeature\n",
        "from cartopy.mpl.ticker import LongitudeFormatter, LatitudeFormatter\n",
        "#for location standartization\n",
        "from geopy.geocoders import Nominatim\n",
        "from geopy.exc import GeocoderTimedOut, GeocoderServiceError\n",
        "# world cloud\n",
        "from wordcloud import WordCloud\n",
        "# Natural Language Processing (NLP)\n",
        "import nltk\n",
        "from emot.emo_unicode import UNICODE_EMOJI\n",
        "from nltk.tokenize import TweetTokenizer\n",
        "from nltk.corpus import stopwords\n",
        "from nltk import pos_tag, ne_chunk\n",
        "from nltk.sentiment.vader import SentimentIntensityAnalyzer\n",
        "%matplotlib inline\n",
        "# stop words for tokenizer\n",
        "nltk.download('stopwords')"
      ],
      "metadata": {
        "id": "py58BnTUdbsd",
        "outputId": "4b7cbcc9-0b97-414c-833a-584492673874",
        "colab": {
          "base_uri": "https://localhost:8080/"
        }
      },
      "id": "py58BnTUdbsd",
      "execution_count": 63,
      "outputs": [
        {
          "output_type": "stream",
          "name": "stderr",
          "text": [
            "[nltk_data] Downloading package stopwords to /root/nltk_data...\n",
            "[nltk_data]   Package stopwords is already up-to-date!\n"
          ]
        },
        {
          "output_type": "execute_result",
          "data": {
            "text/plain": [
              "True"
            ]
          },
          "metadata": {},
          "execution_count": 63
        }
      ]
    },
    {
      "cell_type": "markdown",
      "source": [
        "## Loading The Covid-19 Twitter Datasets."
      ],
      "metadata": {
        "id": "hnoqoMM-gr0F"
      },
      "id": "hnoqoMM-gr0F"
    },
    {
      "cell_type": "code",
      "source": [
        "# Supplemental function to determine data directory\n",
        "# Input: none\n",
        "# Output: Data directory, depending on runtime environment.\n",
        "\n",
        "def determine_data_dir():\n",
        "    \"\"\"\n",
        "    Determines the data directory based on the execution environment:\n",
        "    - Local: Uses 'Data' directory in the current working directory.\n",
        "    - Cloud (e.g., Google Colab): Uses '/content' as the data directory.\n",
        "\n",
        "    Returns:\n",
        "        str: Path to the appropriate data directory.\n",
        "    \"\"\"\n",
        "    if 'COLAB_GPU' in os.environ:  # Check if running in Google Colab\n",
        "        data_dir = \"/content\"\n",
        "        print(f\"Running in Google Colab. Using data directory: {data_dir}\")\n",
        "    else:\n",
        "        data_dir = os.path.join(os.getcwd(), \"Data\")\n",
        "        print(f\"Running locally. Using data directory: {data_dir}\")\n",
        "\n",
        "        # Ensure the 'Data' directory exists locally\n",
        "        if not os.path.isdir(data_dir):\n",
        "            print(f\"The directory '{data_dir}' does not exist. Please create it and place the data files there.\")\n",
        "            raise FileNotFoundError(f\"'{data_dir}' directory is required for local execution.\")\n",
        "\n",
        "    return data_dir"
      ],
      "metadata": {
        "id": "dLmUhcBtfxFS"
      },
      "id": "dLmUhcBtfxFS",
      "execution_count": 64,
      "outputs": []
    },
    {
      "cell_type": "code",
      "source": [
        "# Loading the files\n",
        "# Determine the data directory\n",
        "data_dir = determine_data_dir()\n",
        "\n",
        "# Step 1: Locate all CSV files in the determined directory\n",
        "files_pattern = os.path.join(data_dir, \"*.csv\")\n",
        "files = glob.glob(files_pattern)\n",
        "\n",
        "# Step 2: Check if files are found\n",
        "if not files:\n",
        "    print(f\"No CSV files found in directory: {data_dir}\")\n",
        "else:\n",
        "     # Step 3: Load and inspect each file\n",
        "    dfs = []  # Store valid DataFrames\n",
        "    for file in files:\n",
        "        try:\n",
        "            # Load the DataFrame\n",
        "            df = pd.read_csv(file)\n",
        "            rows, cols = df.shape\n",
        "            print(f\"File: {file} | Rows: {rows}, Columns: {cols}\")\n",
        "\n",
        "            # Optional: Skip empty files or files with no columns\n",
        "            if rows == 0 or cols == 0:\n",
        "                print(f\"Skipping empty or invalid file: {file}\")\n",
        "                continue\n",
        "\n",
        "            # Append to list if valid\n",
        "            dfs.append(df)\n",
        "\n",
        "        except Exception as e:\n",
        "            print(f\"Error loading file {file}: {e}\")\n",
        "\n",
        "    # Step 4: Concatenate all valid DataFrames\n",
        "    if dfs:\n",
        "        data = pd.concat(dfs, ignore_index=True)\n",
        "        print(f\"Data loaded successfully with {data.shape[0]} rows and {data.shape[1]} columns.\")\n",
        "        print(data.head())\n",
        "    else:\n",
        "        print(\"No valid DataFrames to concatenate.\")"
      ],
      "metadata": {
        "id": "Gn7kjSy5DgOe",
        "outputId": "c5717324-812c-43ef-9cb9-226647c434f3",
        "colab": {
          "base_uri": "https://localhost:8080/"
        }
      },
      "id": "Gn7kjSy5DgOe",
      "execution_count": 65,
      "outputs": [
        {
          "output_type": "stream",
          "name": "stdout",
          "text": [
            "Running in Google Colab. Using data directory: /content\n",
            "File: /content/Covid-19 Twitter Dataset (Aug-Sep 2020).csv | Rows: 120509, Columns: 17\n",
            "File: /content/Covid-19 Twitter Dataset (Apr-Jun 2020).csv | Rows: 143903, Columns: 17\n",
            "File: /content/Covid-19 Twitter Dataset (Apr-Jun 2021).csv | Rows: 147475, Columns: 17\n",
            "Data loaded successfully with 411887 rows and 17 columns.\n",
            "             id  created_at  \\\n",
            "0  1.300000e+18  2020-08-20   \n",
            "1  1.300000e+18  2020-08-20   \n",
            "2  1.300000e+18  2020-08-20   \n",
            "3  1.300000e+18  2020-08-20   \n",
            "4  1.300000e+18  2020-08-20   \n",
            "\n",
            "                                              source  \\\n",
            "0  <a href=\"http://twitter.com/download/android\" ...   \n",
            "1  <a href=\"http://twitter.com/download/android\" ...   \n",
            "2  <a href=\"http://twitter.com/download/android\" ...   \n",
            "3  <a href=\"https://about.twitter.com/products/tw...   \n",
            "4  <a href=\"http://twitter.com/download/android\" ...   \n",
            "\n",
            "                                       original_text lang  favorite_count  \\\n",
            "0  RT @RobertAlai: 91-year-old Ex-Vice President ...   en             0.0   \n",
            "1  RT @cnnphilippines: BREAKING: The Department o...   en             0.0   \n",
            "2  RT @latestly: #SidharthShukla Helps Out Fan Wh...   en             0.0   \n",
            "3  Lending Club loan originations down 90% ... bu...   en             0.0   \n",
            "4  RT @OpIndia_com: Curious case of ‘United Natio...   en             0.0   \n",
            "\n",
            "   retweet_count original_author                  hashtags  \\\n",
            "0          100.0       kvn_kegan                       NaN   \n",
            "1           38.0      puTOPinamo                       NaN   \n",
            "2            0.0     DevSidheart  SidharthShukla, Covid_19   \n",
            "3           13.0   Chris_Skinner                       NaN   \n",
            "4          286.0  Yashodhara1010                       NaN   \n",
            "\n",
            "               user_mentions                   place  \\\n",
            "0                 RobertAlai          Nairobi, Kenya   \n",
            "1             cnnphilippines                     NaN   \n",
            "2                   latestly                Sidheart   \n",
            "3                        NaN  ÜT: 51.511924,-0.22414   \n",
            "4  OpIndia_com, LekhakAnurag                   India   \n",
            "\n",
            "                                         clean_tweet  compound  neg    neu  \\\n",
            "0  year old ex vice presid moodi awori land inter...    0.0000  0.0  1.000   \n",
            "1  break depart health report peopl caught covid1...    0.0000  0.0  1.000   \n",
            "2  help fan request help arrang bed posit father ...    0.7717  0.0  0.476   \n",
            "3                     lend club loan origin hey bank    0.0000  0.0  1.000   \n",
            "4  curiou case unit nation ngo appreci kingdom ma...    0.0000  0.0  1.000   \n",
            "\n",
            "     pos sentiment  \n",
            "0  0.000       neu  \n",
            "1  0.000       neu  \n",
            "2  0.524       pos  \n",
            "3  0.000       neu  \n",
            "4  0.000       neu  \n"
          ]
        }
      ]
    },
    {
      "cell_type": "markdown",
      "source": [
        "## Exploratory Data Analysis.\n",
        "### Data Understanding and Cleaning.\n",
        "\n",
        "We'll start with getting general information about the dataset and identify the columns of interest."
      ],
      "metadata": {
        "id": "75eceDA73wLf"
      },
      "id": "75eceDA73wLf"
    },
    {
      "cell_type": "code",
      "source": [
        "# get general info about the dataset\n",
        "data.info()"
      ],
      "metadata": {
        "id": "tsrDMCYiEfUL",
        "colab": {
          "base_uri": "https://localhost:8080/"
        },
        "outputId": "f3fd9148-b279-4c26-ac66-a8609985c6ac"
      },
      "id": "tsrDMCYiEfUL",
      "execution_count": 66,
      "outputs": [
        {
          "output_type": "stream",
          "name": "stdout",
          "text": [
            "<class 'pandas.core.frame.DataFrame'>\n",
            "RangeIndex: 411887 entries, 0 to 411886\n",
            "Data columns (total 17 columns):\n",
            " #   Column           Non-Null Count   Dtype  \n",
            "---  ------           --------------   -----  \n",
            " 0   id               411883 non-null  float64\n",
            " 1   created_at       411885 non-null  object \n",
            " 2   source           411587 non-null  object \n",
            " 3   original_text    411885 non-null  object \n",
            " 4   lang             411884 non-null  object \n",
            " 5   favorite_count   411884 non-null  float64\n",
            " 6   retweet_count    411884 non-null  float64\n",
            " 7   original_author  411884 non-null  object \n",
            " 8   hashtags         97775 non-null   object \n",
            " 9   user_mentions    295207 non-null  object \n",
            " 10  place            293775 non-null  object \n",
            " 11  clean_tweet      409915 non-null  object \n",
            " 12  compound         411887 non-null  float64\n",
            " 13  neg              411887 non-null  float64\n",
            " 14  neu              411887 non-null  float64\n",
            " 15  pos              411887 non-null  float64\n",
            " 16  sentiment        411887 non-null  object \n",
            "dtypes: float64(7), object(10)\n",
            "memory usage: 53.4+ MB\n"
          ]
        }
      ]
    },
    {
      "cell_type": "code",
      "source": [
        "# info about the numeric columns\n",
        "data.describe()"
      ],
      "metadata": {
        "colab": {
          "base_uri": "https://localhost:8080/",
          "height": 320
        },
        "id": "l8cIT_Ib3_UI",
        "outputId": "9a74e673-4f4b-4223-df17-097fafc36154"
      },
      "id": "l8cIT_Ib3_UI",
      "execution_count": 67,
      "outputs": [
        {
          "output_type": "execute_result",
          "data": {
            "text/plain": [
              "                 id  favorite_count  retweet_count       compound  \\\n",
              "count  4.118830e+05   411884.000000  411884.000000  411887.000000   \n",
              "mean   1.324197e+18        0.216726    1585.174163       0.008415   \n",
              "std    5.902218e+16        6.332250    9423.896052       0.370853   \n",
              "min    1.250000e+18        0.000000       0.000000      -0.992500   \n",
              "25%    1.260000e+18        0.000000       1.000000      -0.102700   \n",
              "50%    1.310000e+18        0.000000      15.000000       0.000000   \n",
              "75%    1.395011e+18        0.000000     243.000000       0.226300   \n",
              "max    1.409140e+18     2923.000000  416923.000000       0.980500   \n",
              "\n",
              "                 neg            neu            pos  \n",
              "count  411887.000000  411887.000000  411887.000000  \n",
              "mean        0.090920       0.807021       0.102052  \n",
              "std         0.152717       0.200474       0.157080  \n",
              "min         0.000000       0.000000       0.000000  \n",
              "25%         0.000000       0.667000       0.000000  \n",
              "50%         0.000000       0.819000       0.000000  \n",
              "75%         0.180000       1.000000       0.200000  \n",
              "max         1.000000       1.000000       1.000000  "
            ],
            "text/html": [
              "\n",
              "  <div id=\"df-3b661c66-6c81-4091-b15f-92f8b822828f\" class=\"colab-df-container\">\n",
              "    <div>\n",
              "<style scoped>\n",
              "    .dataframe tbody tr th:only-of-type {\n",
              "        vertical-align: middle;\n",
              "    }\n",
              "\n",
              "    .dataframe tbody tr th {\n",
              "        vertical-align: top;\n",
              "    }\n",
              "\n",
              "    .dataframe thead th {\n",
              "        text-align: right;\n",
              "    }\n",
              "</style>\n",
              "<table border=\"1\" class=\"dataframe\">\n",
              "  <thead>\n",
              "    <tr style=\"text-align: right;\">\n",
              "      <th></th>\n",
              "      <th>id</th>\n",
              "      <th>favorite_count</th>\n",
              "      <th>retweet_count</th>\n",
              "      <th>compound</th>\n",
              "      <th>neg</th>\n",
              "      <th>neu</th>\n",
              "      <th>pos</th>\n",
              "    </tr>\n",
              "  </thead>\n",
              "  <tbody>\n",
              "    <tr>\n",
              "      <th>count</th>\n",
              "      <td>4.118830e+05</td>\n",
              "      <td>411884.000000</td>\n",
              "      <td>411884.000000</td>\n",
              "      <td>411887.000000</td>\n",
              "      <td>411887.000000</td>\n",
              "      <td>411887.000000</td>\n",
              "      <td>411887.000000</td>\n",
              "    </tr>\n",
              "    <tr>\n",
              "      <th>mean</th>\n",
              "      <td>1.324197e+18</td>\n",
              "      <td>0.216726</td>\n",
              "      <td>1585.174163</td>\n",
              "      <td>0.008415</td>\n",
              "      <td>0.090920</td>\n",
              "      <td>0.807021</td>\n",
              "      <td>0.102052</td>\n",
              "    </tr>\n",
              "    <tr>\n",
              "      <th>std</th>\n",
              "      <td>5.902218e+16</td>\n",
              "      <td>6.332250</td>\n",
              "      <td>9423.896052</td>\n",
              "      <td>0.370853</td>\n",
              "      <td>0.152717</td>\n",
              "      <td>0.200474</td>\n",
              "      <td>0.157080</td>\n",
              "    </tr>\n",
              "    <tr>\n",
              "      <th>min</th>\n",
              "      <td>1.250000e+18</td>\n",
              "      <td>0.000000</td>\n",
              "      <td>0.000000</td>\n",
              "      <td>-0.992500</td>\n",
              "      <td>0.000000</td>\n",
              "      <td>0.000000</td>\n",
              "      <td>0.000000</td>\n",
              "    </tr>\n",
              "    <tr>\n",
              "      <th>25%</th>\n",
              "      <td>1.260000e+18</td>\n",
              "      <td>0.000000</td>\n",
              "      <td>1.000000</td>\n",
              "      <td>-0.102700</td>\n",
              "      <td>0.000000</td>\n",
              "      <td>0.667000</td>\n",
              "      <td>0.000000</td>\n",
              "    </tr>\n",
              "    <tr>\n",
              "      <th>50%</th>\n",
              "      <td>1.310000e+18</td>\n",
              "      <td>0.000000</td>\n",
              "      <td>15.000000</td>\n",
              "      <td>0.000000</td>\n",
              "      <td>0.000000</td>\n",
              "      <td>0.819000</td>\n",
              "      <td>0.000000</td>\n",
              "    </tr>\n",
              "    <tr>\n",
              "      <th>75%</th>\n",
              "      <td>1.395011e+18</td>\n",
              "      <td>0.000000</td>\n",
              "      <td>243.000000</td>\n",
              "      <td>0.226300</td>\n",
              "      <td>0.180000</td>\n",
              "      <td>1.000000</td>\n",
              "      <td>0.200000</td>\n",
              "    </tr>\n",
              "    <tr>\n",
              "      <th>max</th>\n",
              "      <td>1.409140e+18</td>\n",
              "      <td>2923.000000</td>\n",
              "      <td>416923.000000</td>\n",
              "      <td>0.980500</td>\n",
              "      <td>1.000000</td>\n",
              "      <td>1.000000</td>\n",
              "      <td>1.000000</td>\n",
              "    </tr>\n",
              "  </tbody>\n",
              "</table>\n",
              "</div>\n",
              "    <div class=\"colab-df-buttons\">\n",
              "\n",
              "  <div class=\"colab-df-container\">\n",
              "    <button class=\"colab-df-convert\" onclick=\"convertToInteractive('df-3b661c66-6c81-4091-b15f-92f8b822828f')\"\n",
              "            title=\"Convert this dataframe to an interactive table.\"\n",
              "            style=\"display:none;\">\n",
              "\n",
              "  <svg xmlns=\"http://www.w3.org/2000/svg\" height=\"24px\" viewBox=\"0 -960 960 960\">\n",
              "    <path d=\"M120-120v-720h720v720H120Zm60-500h600v-160H180v160Zm220 220h160v-160H400v160Zm0 220h160v-160H400v160ZM180-400h160v-160H180v160Zm440 0h160v-160H620v160ZM180-180h160v-160H180v160Zm440 0h160v-160H620v160Z\"/>\n",
              "  </svg>\n",
              "    </button>\n",
              "\n",
              "  <style>\n",
              "    .colab-df-container {\n",
              "      display:flex;\n",
              "      gap: 12px;\n",
              "    }\n",
              "\n",
              "    .colab-df-convert {\n",
              "      background-color: #E8F0FE;\n",
              "      border: none;\n",
              "      border-radius: 50%;\n",
              "      cursor: pointer;\n",
              "      display: none;\n",
              "      fill: #1967D2;\n",
              "      height: 32px;\n",
              "      padding: 0 0 0 0;\n",
              "      width: 32px;\n",
              "    }\n",
              "\n",
              "    .colab-df-convert:hover {\n",
              "      background-color: #E2EBFA;\n",
              "      box-shadow: 0px 1px 2px rgba(60, 64, 67, 0.3), 0px 1px 3px 1px rgba(60, 64, 67, 0.15);\n",
              "      fill: #174EA6;\n",
              "    }\n",
              "\n",
              "    .colab-df-buttons div {\n",
              "      margin-bottom: 4px;\n",
              "    }\n",
              "\n",
              "    [theme=dark] .colab-df-convert {\n",
              "      background-color: #3B4455;\n",
              "      fill: #D2E3FC;\n",
              "    }\n",
              "\n",
              "    [theme=dark] .colab-df-convert:hover {\n",
              "      background-color: #434B5C;\n",
              "      box-shadow: 0px 1px 3px 1px rgba(0, 0, 0, 0.15);\n",
              "      filter: drop-shadow(0px 1px 2px rgba(0, 0, 0, 0.3));\n",
              "      fill: #FFFFFF;\n",
              "    }\n",
              "  </style>\n",
              "\n",
              "    <script>\n",
              "      const buttonEl =\n",
              "        document.querySelector('#df-3b661c66-6c81-4091-b15f-92f8b822828f button.colab-df-convert');\n",
              "      buttonEl.style.display =\n",
              "        google.colab.kernel.accessAllowed ? 'block' : 'none';\n",
              "\n",
              "      async function convertToInteractive(key) {\n",
              "        const element = document.querySelector('#df-3b661c66-6c81-4091-b15f-92f8b822828f');\n",
              "        const dataTable =\n",
              "          await google.colab.kernel.invokeFunction('convertToInteractive',\n",
              "                                                    [key], {});\n",
              "        if (!dataTable) return;\n",
              "\n",
              "        const docLinkHtml = 'Like what you see? Visit the ' +\n",
              "          '<a target=\"_blank\" href=https://colab.research.google.com/notebooks/data_table.ipynb>data table notebook</a>'\n",
              "          + ' to learn more about interactive tables.';\n",
              "        element.innerHTML = '';\n",
              "        dataTable['output_type'] = 'display_data';\n",
              "        await google.colab.output.renderOutput(dataTable, element);\n",
              "        const docLink = document.createElement('div');\n",
              "        docLink.innerHTML = docLinkHtml;\n",
              "        element.appendChild(docLink);\n",
              "      }\n",
              "    </script>\n",
              "  </div>\n",
              "\n",
              "\n",
              "<div id=\"df-767e8da3-7407-422f-a2e8-6bb14d814ec1\">\n",
              "  <button class=\"colab-df-quickchart\" onclick=\"quickchart('df-767e8da3-7407-422f-a2e8-6bb14d814ec1')\"\n",
              "            title=\"Suggest charts\"\n",
              "            style=\"display:none;\">\n",
              "\n",
              "<svg xmlns=\"http://www.w3.org/2000/svg\" height=\"24px\"viewBox=\"0 0 24 24\"\n",
              "     width=\"24px\">\n",
              "    <g>\n",
              "        <path d=\"M19 3H5c-1.1 0-2 .9-2 2v14c0 1.1.9 2 2 2h14c1.1 0 2-.9 2-2V5c0-1.1-.9-2-2-2zM9 17H7v-7h2v7zm4 0h-2V7h2v10zm4 0h-2v-4h2v4z\"/>\n",
              "    </g>\n",
              "</svg>\n",
              "  </button>\n",
              "\n",
              "<style>\n",
              "  .colab-df-quickchart {\n",
              "      --bg-color: #E8F0FE;\n",
              "      --fill-color: #1967D2;\n",
              "      --hover-bg-color: #E2EBFA;\n",
              "      --hover-fill-color: #174EA6;\n",
              "      --disabled-fill-color: #AAA;\n",
              "      --disabled-bg-color: #DDD;\n",
              "  }\n",
              "\n",
              "  [theme=dark] .colab-df-quickchart {\n",
              "      --bg-color: #3B4455;\n",
              "      --fill-color: #D2E3FC;\n",
              "      --hover-bg-color: #434B5C;\n",
              "      --hover-fill-color: #FFFFFF;\n",
              "      --disabled-bg-color: #3B4455;\n",
              "      --disabled-fill-color: #666;\n",
              "  }\n",
              "\n",
              "  .colab-df-quickchart {\n",
              "    background-color: var(--bg-color);\n",
              "    border: none;\n",
              "    border-radius: 50%;\n",
              "    cursor: pointer;\n",
              "    display: none;\n",
              "    fill: var(--fill-color);\n",
              "    height: 32px;\n",
              "    padding: 0;\n",
              "    width: 32px;\n",
              "  }\n",
              "\n",
              "  .colab-df-quickchart:hover {\n",
              "    background-color: var(--hover-bg-color);\n",
              "    box-shadow: 0 1px 2px rgba(60, 64, 67, 0.3), 0 1px 3px 1px rgba(60, 64, 67, 0.15);\n",
              "    fill: var(--button-hover-fill-color);\n",
              "  }\n",
              "\n",
              "  .colab-df-quickchart-complete:disabled,\n",
              "  .colab-df-quickchart-complete:disabled:hover {\n",
              "    background-color: var(--disabled-bg-color);\n",
              "    fill: var(--disabled-fill-color);\n",
              "    box-shadow: none;\n",
              "  }\n",
              "\n",
              "  .colab-df-spinner {\n",
              "    border: 2px solid var(--fill-color);\n",
              "    border-color: transparent;\n",
              "    border-bottom-color: var(--fill-color);\n",
              "    animation:\n",
              "      spin 1s steps(1) infinite;\n",
              "  }\n",
              "\n",
              "  @keyframes spin {\n",
              "    0% {\n",
              "      border-color: transparent;\n",
              "      border-bottom-color: var(--fill-color);\n",
              "      border-left-color: var(--fill-color);\n",
              "    }\n",
              "    20% {\n",
              "      border-color: transparent;\n",
              "      border-left-color: var(--fill-color);\n",
              "      border-top-color: var(--fill-color);\n",
              "    }\n",
              "    30% {\n",
              "      border-color: transparent;\n",
              "      border-left-color: var(--fill-color);\n",
              "      border-top-color: var(--fill-color);\n",
              "      border-right-color: var(--fill-color);\n",
              "    }\n",
              "    40% {\n",
              "      border-color: transparent;\n",
              "      border-right-color: var(--fill-color);\n",
              "      border-top-color: var(--fill-color);\n",
              "    }\n",
              "    60% {\n",
              "      border-color: transparent;\n",
              "      border-right-color: var(--fill-color);\n",
              "    }\n",
              "    80% {\n",
              "      border-color: transparent;\n",
              "      border-right-color: var(--fill-color);\n",
              "      border-bottom-color: var(--fill-color);\n",
              "    }\n",
              "    90% {\n",
              "      border-color: transparent;\n",
              "      border-bottom-color: var(--fill-color);\n",
              "    }\n",
              "  }\n",
              "</style>\n",
              "\n",
              "  <script>\n",
              "    async function quickchart(key) {\n",
              "      const quickchartButtonEl =\n",
              "        document.querySelector('#' + key + ' button');\n",
              "      quickchartButtonEl.disabled = true;  // To prevent multiple clicks.\n",
              "      quickchartButtonEl.classList.add('colab-df-spinner');\n",
              "      try {\n",
              "        const charts = await google.colab.kernel.invokeFunction(\n",
              "            'suggestCharts', [key], {});\n",
              "      } catch (error) {\n",
              "        console.error('Error during call to suggestCharts:', error);\n",
              "      }\n",
              "      quickchartButtonEl.classList.remove('colab-df-spinner');\n",
              "      quickchartButtonEl.classList.add('colab-df-quickchart-complete');\n",
              "    }\n",
              "    (() => {\n",
              "      let quickchartButtonEl =\n",
              "        document.querySelector('#df-767e8da3-7407-422f-a2e8-6bb14d814ec1 button');\n",
              "      quickchartButtonEl.style.display =\n",
              "        google.colab.kernel.accessAllowed ? 'block' : 'none';\n",
              "    })();\n",
              "  </script>\n",
              "</div>\n",
              "\n",
              "    </div>\n",
              "  </div>\n"
            ],
            "application/vnd.google.colaboratory.intrinsic+json": {
              "type": "dataframe",
              "summary": "{\n  \"name\": \"data\",\n  \"rows\": 8,\n  \"fields\": [\n    {\n      \"column\": \"id\",\n      \"properties\": {\n        \"dtype\": \"number\",\n        \"std\": 6.023959288097569e+17,\n        \"min\": 411883.0,\n        \"max\": 1.40914e+18,\n        \"num_unique_values\": 8,\n        \"samples\": [\n          1.324197404747178e+18,\n          1.31e+18,\n          411883.0\n        ],\n        \"semantic_type\": \"\",\n        \"description\": \"\"\n      }\n    },\n    {\n      \"column\": \"favorite_count\",\n      \"properties\": {\n        \"dtype\": \"number\",\n        \"std\": 145478.61324083302,\n        \"min\": 0.0,\n        \"max\": 411884.0,\n        \"num_unique_values\": 5,\n        \"samples\": [\n          0.21672606850472464,\n          2923.0,\n          6.332250463859156\n        ],\n        \"semantic_type\": \"\",\n        \"description\": \"\"\n      }\n    },\n    {\n      \"column\": \"retweet_count\",\n      \"properties\": {\n        \"dtype\": \"number\",\n        \"std\": 190993.20623830325,\n        \"min\": 0.0,\n        \"max\": 416923.0,\n        \"num_unique_values\": 8,\n        \"samples\": [\n          1585.1741631138864,\n          15.0,\n          411884.0\n        ],\n        \"semantic_type\": \"\",\n        \"description\": \"\"\n      }\n    },\n    {\n      \"column\": \"compound\",\n      \"properties\": {\n        \"dtype\": \"number\",\n        \"std\": 145624.02059975133,\n        \"min\": -0.9925,\n        \"max\": 411887.0,\n        \"num_unique_values\": 8,\n        \"samples\": [\n          0.008414607647243052,\n          0.0,\n          411887.0\n        ],\n        \"semantic_type\": \"\",\n        \"description\": \"\"\n      }\n    },\n    {\n      \"column\": \"neg\",\n      \"properties\": {\n        \"dtype\": \"number\",\n        \"std\": 145623.97348716456,\n        \"min\": 0.0,\n        \"max\": 411887.0,\n        \"num_unique_values\": 6,\n        \"samples\": [\n          411887.0,\n          0.09092004360419241,\n          1.0\n        ],\n        \"semantic_type\": \"\",\n        \"description\": \"\"\n      }\n    },\n    {\n      \"column\": \"neu\",\n      \"properties\": {\n        \"dtype\": \"number\",\n        \"std\": 145623.8184359867,\n        \"min\": 0.0,\n        \"max\": 411887.0,\n        \"num_unique_values\": 7,\n        \"samples\": [\n          411887.0,\n          0.8070205736039257,\n          0.819\n        ],\n        \"semantic_type\": \"\",\n        \"description\": \"\"\n      }\n    },\n    {\n      \"column\": \"pos\",\n      \"properties\": {\n        \"dtype\": \"number\",\n        \"std\": 145623.9716943737,\n        \"min\": 0.0,\n        \"max\": 411887.0,\n        \"num_unique_values\": 6,\n        \"samples\": [\n          411887.0,\n          0.10205184431652371,\n          1.0\n        ],\n        \"semantic_type\": \"\",\n        \"description\": \"\"\n      }\n    }\n  ]\n}"
            }
          },
          "metadata": {},
          "execution_count": 67
        }
      ]
    },
    {
      "cell_type": "code",
      "source": [
        "# select subset of tweets we'll be working with:\n",
        "cols_to_keep = ['id', 'created_at', 'original_text', \\\n",
        "                'lang', 'favorite_count', 'retweet_count', 'original_author', \\\n",
        "                'hashtags', 'user_mentions', 'place', 'neg', 'neu', 'pos']\n",
        "tweets_df = data[cols_to_keep].copy()"
      ],
      "metadata": {
        "id": "p7qKCkF41B4j"
      },
      "id": "p7qKCkF41B4j",
      "execution_count": 68,
      "outputs": []
    },
    {
      "cell_type": "code",
      "source": [
        "# Supplemental function will display unique values for all categorical columns in a dataframe.\n",
        "def display_categorical_vals(df):\n",
        "    # select categorical columns\n",
        "    categorical_columns = df.select_dtypes(include=['object', 'category']).columns\n",
        "\n",
        "    # print categorical columns and their unique values\n",
        "    for col in categorical_columns:\n",
        "        unique_values = df[col].unique()\n",
        "        print(f\"Column '{col}' has unique values: {unique_values}\")"
      ],
      "metadata": {
        "id": "jamXGPHa6A9n"
      },
      "id": "jamXGPHa6A9n",
      "execution_count": 69,
      "outputs": []
    },
    {
      "cell_type": "code",
      "source": [
        "display_categorical_vals(tweets_df)"
      ],
      "metadata": {
        "colab": {
          "base_uri": "https://localhost:8080/"
        },
        "id": "Lgl3O8AV0loS",
        "outputId": "ed09c88e-e653-4c13-fbe6-06c7595e01e7"
      },
      "id": "Lgl3O8AV0loS",
      "execution_count": 70,
      "outputs": [
        {
          "output_type": "stream",
          "name": "stdout",
          "text": [
            "Column 'created_at' has unique values: ['2020-08-20' '2020-08-21' '2020-08-22' '2020-08-23' '2020-08-24'\n",
            " '2020-08-26' '2020-08-28' '2020-08-29' '2020-08-30' '2020-08-31'\n",
            " '2020-09-01' '2020-09-02' '2020-09-03' '2020-09-06' '2020-09-12'\n",
            " '2020-09-13' '2020-09-15' '2020-09-17' '2020-09-19' '2020-09-20'\n",
            " '2020-09-22' '2020-09-23' '2020-09-24' '2020-09-25' '2020-09-26'\n",
            " '2020-09-27' '2020-09-28' '2020-09-29' '2020-09-30' '2020-10-01'\n",
            " '2020-10-02' '2020-10-03' '2020-10-04' nan '2020-10-05' '2020-10-06'\n",
            " '2020-10-07' '2020-10-08' '2020-10-09' '2020-10-10' '2020-10-11'\n",
            " '2020-10-12' '2020-10-13' '2020-10-14' '2020-10-15' '2020-10-16'\n",
            " '2020-10-17' '2020-10-18' '2020-10-19' '2020-10-20' '2020-04-19'\n",
            " '2020-04-22' '2020-04-23' '2020-04-24' '2020-04-25' '2020-04-26'\n",
            " '2020-04-27' '2020-04-28' '2020-04-29' '2020-04-30' '2020-05-01'\n",
            " '2020-05-02' '2020-05-03' '2020-05-04' '2020-05-05' '2020-05-06'\n",
            " '2020-05-07' '2020-05-08' '2020-05-09' '2020-05-10' '2020-05-11'\n",
            " '2020-05-12' '2020-05-13' '2020-05-14' '2020-05-15' '2020-05-16'\n",
            " '2020-05-17' '2020-05-18' '2020-05-19' '2020-05-20' '2020-05-22'\n",
            " '2020-05-23' '2020-05-24' '2020-05-25' '2020-05-26' '2020-05-27'\n",
            " '2020-05-28' '2020-05-29' '2020-05-30' '2020-05-31' '2020-06-01'\n",
            " '2020-06-03' '2020-06-04' '2020-06-05' '2020-06-06' '2020-06-07'\n",
            " '2020-06-08' '2020-06-09' '2020-06-10' '2020-06-11' '2020-06-12'\n",
            " '2020-06-13' '2020-06-14' '2020-06-15' '2020-06-17' '2020-06-19'\n",
            " '2020-06-20' '2021-04-26' '2021-04-27' '2021-04-28' '2021-04-29'\n",
            " '2021-04-30' '2021-05-01' '2021-05-03' '2021-05-04' '2021-05-05'\n",
            " '2021-05-07' '2021-05-08' '2021-05-09' '2021-05-10' '2021-05-11'\n",
            " '2021-05-13' '2021-05-14' '2021-05-15' '2021-05-16' '2021-05-18'\n",
            " '2021-05-19' '2021-05-20' '2021-05-21' '2021-05-23' '2021-05-25'\n",
            " '2021-05-26' '2021-05-27' '2021-05-28' '2021-05-29' '2021-05-30'\n",
            " '2021-06-01' '2021-06-02' '2021-06-03' '2021-06-05' '2021-06-07'\n",
            " '2021-06-08' '2021-06-09' '2021-06-11' '2021-06-12' '2021-06-13'\n",
            " '2021-06-14' '2021-06-15' '2021-06-16' '2021-06-17' '2021-06-18'\n",
            " '2021-06-19' '2021-06-24' '2021-06-26' '2021-06-27']\n",
            "Column 'original_text' has unique values: ['RT @RobertAlai: 91-year-old Ex-Vice President Moody Awori Lands Inter County Covid-19 Committee Role https://t.co/bslXxeMpGD'\n",
            " 'RT @cnnphilippines: BREAKING: The Department of Health reports 4,339 more people caught COVID-19, pushing the national case count to 178,02…'\n",
            " 'RT @latestly: #SidharthShukla Helps Out Fan Who Requested Him To Help Arrange A Bed For Her #Covid_19 Positive Father (View Tweet)\\n@sidhart…'\n",
            " ...\n",
            " 'Goal is reached: 40 per cent of Chinese get Covid-19 jab before end of June https://t.co/ssYlXXNsZJ via @scmpnews'\n",
            " 'Covid-19 and Uganda’s looming political crisis https://t.co/slV34Ntt8M'\n",
            " 'RT @MirzaNasara: Alhamdolillah, we got our second dose of COVID-19 vaccine may Allah keep everyone safe and healthy. Amin https://t.co/sE3l…']\n",
            "Column 'lang' has unique values: ['en' nan]\n",
            "Column 'original_author' has unique values: ['kvn_kegan' 'puTOPinamo' 'DevSidheart' ... 'CochingcoA' 'JOBBWIRE'\n",
            " 'Life_Devotee']\n",
            "Column 'hashtags' has unique values: [nan 'SidharthShukla, Covid_19' 'COVID19, Glasgow, Covid_19' ...\n",
            " 'Nagaland, Vaccination, Covidvaccination, covidemergencyindia, CovidResources, Covidindiahelp'\n",
            " 'Ibunisasi' 'Jawa42, SiriusWhite']\n",
            "Column 'user_mentions' has unique values: ['RobertAlai' 'cnnphilippines' 'latestly' ... 'samacharnews_in'\n",
            " 'sinonome_umi' 'MirzaNasara']\n",
            "Column 'place' has unique values: ['Nairobi, Kenya' nan 'Sidheart' ... 'Strangeland!'\n",
            " 'Airport Heights Campus, NUST.' 'قائدتحریک جدید۔تربیت ۔اشاعت  ']\n"
          ]
        }
      ]
    },
    {
      "cell_type": "markdown",
      "source": [
        "### Data Type Conversion."
      ],
      "metadata": {
        "id": "psy8TJ7r6Lit"
      },
      "id": "psy8TJ7r6Lit"
    },
    {
      "cell_type": "code",
      "source": [
        "#rename date column for clarity and convert to date\n",
        "tweet_df = data.rename(columns={'created_at': 'date'})\n",
        "tweet_df['date'] = pd.to_datetime(tweet_df['date'])"
      ],
      "metadata": {
        "id": "bSzfHyP60pCc"
      },
      "id": "bSzfHyP60pCc",
      "execution_count": 71,
      "outputs": []
    },
    {
      "cell_type": "markdown",
      "source": [
        "Follow by exploratory data analysis:\n",
        "* What were daily tweet patters?\n",
        "* What were the top 20 days with most tweets?  "
      ],
      "metadata": {
        "id": "5wNyc5aZ8KYM"
      },
      "id": "5wNyc5aZ8KYM"
    },
    {
      "cell_type": "code",
      "source": [
        "# exploratory analysis: plot number of tweets per day\n",
        "# group by date and count tweets\n",
        "tweets_per_day = tweet_df.groupby(tweet_df['date'].dt.date)['id'].count()\n",
        "\n",
        "plt.figure(figsize=(12, 6))\n",
        "plt.bar(tweets_per_day.index, tweets_per_day.values)\n",
        "plt.xlabel(\"Date\")\n",
        "plt.ylabel(\"Number of Tweets\")\n",
        "plt.title(\"Number of Tweets Per Day\")\n",
        "plt.grid(True)\n",
        "plt.xticks(rotation=45, ha='right')  # Rotate x-axis labels for better readability\n",
        "plt.tight_layout()  # Adjust layout to prevent labels from overlapping\n",
        "plt.show()"
      ],
      "metadata": {
        "colab": {
          "base_uri": "https://localhost:8080/",
          "height": 410
        },
        "id": "KWByJUQb8HnZ",
        "outputId": "977dfd93-ac6e-4920-fd01-e024f3a52387"
      },
      "id": "KWByJUQb8HnZ",
      "execution_count": 72,
      "outputs": [
        {
          "output_type": "display_data",
          "data": {
            "text/plain": [
              "<Figure size 1200x600 with 1 Axes>"
            ],
            "image/png": "[encoded data removed]"
          },
          "metadata": {}
        }
      ]
    },
    {
      "cell_type": "code",
      "source": [
        "# exploratory analysis: list the top 20 days with the most tweets\n",
        "# rename columns for clarity\n",
        "tweets_per_day.columns = ['date', 'tweet_count']\n",
        "\n",
        "# sort by tweet count and get the top 20\n",
        "top_20_days = tweets_per_day.sort_values(ascending=False).head(20)\n",
        "\n",
        "# display the result\n",
        "print(top_20_days)"
      ],
      "metadata": {
        "colab": {
          "base_uri": "https://localhost:8080/"
        },
        "id": "tKhB8-_k6oVd",
        "outputId": "6503a4e8-6565-4954-f948-0211e27f6b0b"
      },
      "id": "tKhB8-_k6oVd",
      "execution_count": 73,
      "outputs": [
        {
          "output_type": "stream",
          "name": "stdout",
          "text": [
            "date\n",
            "2021-06-03    7229\n",
            "2020-05-04    7165\n",
            "2021-05-25    7114\n",
            "2020-09-27    7040\n",
            "2020-09-30    7028\n",
            "2020-04-25    6178\n",
            "2020-10-01    6166\n",
            "2020-05-09    5857\n",
            "2020-05-23    5600\n",
            "2020-04-24    5323\n",
            "2021-06-01    5175\n",
            "2021-06-09    5158\n",
            "2020-05-22    5102\n",
            "2021-05-08    5032\n",
            "2020-05-05    4949\n",
            "2021-05-05    4886\n",
            "2020-05-25    4804\n",
            "2021-05-26    4750\n",
            "2021-05-07    4586\n",
            "2020-05-06    4575\n",
            "Name: id, dtype: int64\n"
          ]
        }
      ]
    },
    {
      "cell_type": "markdown",
      "source": [
        "### Evaluating and Handling Missing Values.\n",
        "Before coming up with the strategy for each column, we'll check the contents of categorical data and the distributiuon of NaNs.\n",
        "\n",
        "* It would make sence that fields like ```hashtags``` and ```user_mentions``` would have missing values and we'll leave it as it is.\n",
        "* We'll check the ```lang``` and ```place``` columns.\n"
      ],
      "metadata": {
        "id": "Br52XIjx-PYG"
      },
      "id": "Br52XIjx-PYG"
    },
    {
      "cell_type": "code",
      "source": [
        "# number of NaNs in lang\n",
        "sum(tweet_df.lang.isna())"
      ],
      "metadata": {
        "colab": {
          "base_uri": "https://localhost:8080/"
        },
        "id": "ZPUde-jG8BO2",
        "outputId": "2683b4bf-6b86-4b24-f018-6688aba8da60"
      },
      "id": "ZPUde-jG8BO2",
      "execution_count": 74,
      "outputs": [
        {
          "output_type": "execute_result",
          "data": {
            "text/plain": [
              "3"
            ]
          },
          "metadata": {},
          "execution_count": 74
        }
      ]
    },
    {
      "cell_type": "code",
      "source": [
        "# look at the tweet text\n",
        "tweet_df[tweet_df.lang.isna()]"
      ],
      "metadata": {
        "colab": {
          "base_uri": "https://localhost:8080/",
          "height": 198
        },
        "id": "NjCQDN2y-0Ww",
        "outputId": "868d1535-0364-46f0-9181-47e1fab48594"
      },
      "id": "NjCQDN2y-0Ww",
      "execution_count": 75,
      "outputs": [
        {
          "output_type": "execute_result",
          "data": {
            "text/plain": [
              "                  id       date  \\\n",
              "77157   1.310000e+18        NaT   \n",
              "143634           NaN        NaT   \n",
              "357288  1.400490e+18 2021-06-03   \n",
              "\n",
              "                                                   source  \\\n",
              "77157                                                 NaN   \n",
              "143634                                                NaN   \n",
              "357288  <a href=\"http://twitter.com/download/android\" ...   \n",
              "\n",
              "                                            original_text lang  \\\n",
              "77157                                                 NaN  NaN   \n",
              "143634                                                NaN  NaN   \n",
              "357288  @santoshmt7666 @globaltimesnews The COVID-19 d...  NaN   \n",
              "\n",
              "        favorite_count  retweet_count original_author hashtags user_mentions  \\\n",
              "77157              NaN            NaN             NaN      NaN           NaN   \n",
              "143634             NaN            NaN             NaN      NaN           NaN   \n",
              "357288             NaN            NaN             NaN      NaN           NaN   \n",
              "\n",
              "       place                                 clean_tweet  compound    neg  \\\n",
              "77157    NaN                                         NaN    0.0000  0.000   \n",
              "143634   NaN                                         NaN    0.0000  0.000   \n",
              "357288   NaN  covid19 death toll india could time higher   -0.5994  0.394   \n",
              "\n",
              "          neu  pos sentiment  \n",
              "77157   1.000  0.0       neu  \n",
              "143634  1.000  0.0       neu  \n",
              "357288  0.606  0.0       neg  "
            ],
            "text/html": [
              "\n",
              "  <div id=\"df-e9fbf7af-c8f4-4fde-ae24-ee4e71a424a2\" class=\"colab-df-container\">\n",
              "    <div>\n",
              "<style scoped>\n",
              "    .dataframe tbody tr th:only-of-type {\n",
              "        vertical-align: middle;\n",
              "    }\n",
              "\n",
              "    .dataframe tbody tr th {\n",
              "        vertical-align: top;\n",
              "    }\n",
              "\n",
              "    .dataframe thead th {\n",
              "        text-align: right;\n",
              "    }\n",
              "</style>\n",
              "<table border=\"1\" class=\"dataframe\">\n",
              "  <thead>\n",
              "    <tr style=\"text-align: right;\">\n",
              "      <th></th>\n",
              "      <th>id</th>\n",
              "      <th>date</th>\n",
              "      <th>source</th>\n",
              "      <th>original_text</th>\n",
              "      <th>lang</th>\n",
              "      <th>favorite_count</th>\n",
              "      <th>retweet_count</th>\n",
              "      <th>original_author</th>\n",
              "      <th>hashtags</th>\n",
              "      <th>user_mentions</th>\n",
              "      <th>place</th>\n",
              "      <th>clean_tweet</th>\n",
              "      <th>compound</th>\n",
              "      <th>neg</th>\n",
              "      <th>neu</th>\n",
              "      <th>pos</th>\n",
              "      <th>sentiment</th>\n",
              "    </tr>\n",
              "  </thead>\n",
              "  <tbody>\n",
              "    <tr>\n",
              "      <th>77157</th>\n",
              "      <td>1.310000e+18</td>\n",
              "      <td>NaT</td>\n",
              "      <td>NaN</td>\n",
              "      <td>NaN</td>\n",
              "      <td>NaN</td>\n",
              "      <td>NaN</td>\n",
              "      <td>NaN</td>\n",
              "      <td>NaN</td>\n",
              "      <td>NaN</td>\n",
              "      <td>NaN</td>\n",
              "      <td>NaN</td>\n",
              "      <td>NaN</td>\n",
              "      <td>0.0000</td>\n",
              "      <td>0.000</td>\n",
              "      <td>1.000</td>\n",
              "      <td>0.0</td>\n",
              "      <td>neu</td>\n",
              "    </tr>\n",
              "    <tr>\n",
              "      <th>143634</th>\n",
              "      <td>NaN</td>\n",
              "      <td>NaT</td>\n",
              "      <td>NaN</td>\n",
              "      <td>NaN</td>\n",
              "      <td>NaN</td>\n",
              "      <td>NaN</td>\n",
              "      <td>NaN</td>\n",
              "      <td>NaN</td>\n",
              "      <td>NaN</td>\n",
              "      <td>NaN</td>\n",
              "      <td>NaN</td>\n",
              "      <td>NaN</td>\n",
              "      <td>0.0000</td>\n",
              "      <td>0.000</td>\n",
              "      <td>1.000</td>\n",
              "      <td>0.0</td>\n",
              "      <td>neu</td>\n",
              "    </tr>\n",
              "    <tr>\n",
              "      <th>357288</th>\n",
              "      <td>1.400490e+18</td>\n",
              "      <td>2021-06-03</td>\n",
              "      <td>&lt;a href=\"http://twitter.com/download/android\" ...</td>\n",
              "      <td>@santoshmt7666 @globaltimesnews The COVID-19 d...</td>\n",
              "      <td>NaN</td>\n",
              "      <td>NaN</td>\n",
              "      <td>NaN</td>\n",
              "      <td>NaN</td>\n",
              "      <td>NaN</td>\n",
              "      <td>NaN</td>\n",
              "      <td>NaN</td>\n",
              "      <td>covid19 death toll india could time higher</td>\n",
              "      <td>-0.5994</td>\n",
              "      <td>0.394</td>\n",
              "      <td>0.606</td>\n",
              "      <td>0.0</td>\n",
              "      <td>neg</td>\n",
              "    </tr>\n",
              "  </tbody>\n",
              "</table>\n",
              "</div>\n",
              "    <div class=\"colab-df-buttons\">\n",
              "\n",
              "  <div class=\"colab-df-container\">\n",
              "    <button class=\"colab-df-convert\" onclick=\"convertToInteractive('df-e9fbf7af-c8f4-4fde-ae24-ee4e71a424a2')\"\n",
              "            title=\"Convert this dataframe to an interactive table.\"\n",
              "            style=\"display:none;\">\n",
              "\n",
              "  <svg xmlns=\"http://www.w3.org/2000/svg\" height=\"24px\" viewBox=\"0 -960 960 960\">\n",
              "    <path d=\"M120-120v-720h720v720H120Zm60-500h600v-160H180v160Zm220 220h160v-160H400v160Zm0 220h160v-160H400v160ZM180-400h160v-160H180v160Zm440 0h160v-160H620v160ZM180-180h160v-160H180v160Zm440 0h160v-160H620v160Z\"/>\n",
              "  </svg>\n",
              "    </button>\n",
              "\n",
              "  <style>\n",
              "    .colab-df-container {\n",
              "      display:flex;\n",
              "      gap: 12px;\n",
              "    }\n",
              "\n",
              "    .colab-df-convert {\n",
              "      background-color: #E8F0FE;\n",
              "      border: none;\n",
              "      border-radius: 50%;\n",
              "      cursor: pointer;\n",
              "      display: none;\n",
              "      fill: #1967D2;\n",
              "      height: 32px;\n",
              "      padding: 0 0 0 0;\n",
              "      width: 32px;\n",
              "    }\n",
              "\n",
              "    .colab-df-convert:hover {\n",
              "      background-color: #E2EBFA;\n",
              "      box-shadow: 0px 1px 2px rgba(60, 64, 67, 0.3), 0px 1px 3px 1px rgba(60, 64, 67, 0.15);\n",
              "      fill: #174EA6;\n",
              "    }\n",
              "\n",
              "    .colab-df-buttons div {\n",
              "      margin-bottom: 4px;\n",
              "    }\n",
              "\n",
              "    [theme=dark] .colab-df-convert {\n",
              "      background-color: #3B4455;\n",
              "      fill: #D2E3FC;\n",
              "    }\n",
              "\n",
              "    [theme=dark] .colab-df-convert:hover {\n",
              "      background-color: #434B5C;\n",
              "      box-shadow: 0px 1px 3px 1px rgba(0, 0, 0, 0.15);\n",
              "      filter: drop-shadow(0px 1px 2px rgba(0, 0, 0, 0.3));\n",
              "      fill: #FFFFFF;\n",
              "    }\n",
              "  </style>\n",
              "\n",
              "    <script>\n",
              "      const buttonEl =\n",
              "        document.querySelector('#df-e9fbf7af-c8f4-4fde-ae24-ee4e71a424a2 button.colab-df-convert');\n",
              "      buttonEl.style.display =\n",
              "        google.colab.kernel.accessAllowed ? 'block' : 'none';\n",
              "\n",
              "      async function convertToInteractive(key) {\n",
              "        const element = document.querySelector('#df-e9fbf7af-c8f4-4fde-ae24-ee4e71a424a2');\n",
              "        const dataTable =\n",
              "          await google.colab.kernel.invokeFunction('convertToInteractive',\n",
              "                                                    [key], {});\n",
              "        if (!dataTable) return;\n",
              "\n",
              "        const docLinkHtml = 'Like what you see? Visit the ' +\n",
              "          '<a target=\"_blank\" href=https://colab.research.google.com/notebooks/data_table.ipynb>data table notebook</a>'\n",
              "          + ' to learn more about interactive tables.';\n",
              "        element.innerHTML = '';\n",
              "        dataTable['output_type'] = 'display_data';\n",
              "        await google.colab.output.renderOutput(dataTable, element);\n",
              "        const docLink = document.createElement('div');\n",
              "        docLink.innerHTML = docLinkHtml;\n",
              "        element.appendChild(docLink);\n",
              "      }\n",
              "    </script>\n",
              "  </div>\n",
              "\n",
              "\n",
              "<div id=\"df-d608a500-1ec9-4057-b99e-d69dfdd50060\">\n",
              "  <button class=\"colab-df-quickchart\" onclick=\"quickchart('df-d608a500-1ec9-4057-b99e-d69dfdd50060')\"\n",
              "            title=\"Suggest charts\"\n",
              "            style=\"display:none;\">\n",
              "\n",
              "<svg xmlns=\"http://www.w3.org/2000/svg\" height=\"24px\"viewBox=\"0 0 24 24\"\n",
              "     width=\"24px\">\n",
              "    <g>\n",
              "        <path d=\"M19 3H5c-1.1 0-2 .9-2 2v14c0 1.1.9 2 2 2h14c1.1 0 2-.9 2-2V5c0-1.1-.9-2-2-2zM9 17H7v-7h2v7zm4 0h-2V7h2v10zm4 0h-2v-4h2v4z\"/>\n",
              "    </g>\n",
              "</svg>\n",
              "  </button>\n",
              "\n",
              "<style>\n",
              "  .colab-df-quickchart {\n",
              "      --bg-color: #E8F0FE;\n",
              "      --fill-color: #1967D2;\n",
              "      --hover-bg-color: #E2EBFA;\n",
              "      --hover-fill-color: #174EA6;\n",
              "      --disabled-fill-color: #AAA;\n",
              "      --disabled-bg-color: #DDD;\n",
              "  }\n",
              "\n",
              "  [theme=dark] .colab-df-quickchart {\n",
              "      --bg-color: #3B4455;\n",
              "      --fill-color: #D2E3FC;\n",
              "      --hover-bg-color: #434B5C;\n",
              "      --hover-fill-color: #FFFFFF;\n",
              "      --disabled-bg-color: #3B4455;\n",
              "      --disabled-fill-color: #666;\n",
              "  }\n",
              "\n",
              "  .colab-df-quickchart {\n",
              "    background-color: var(--bg-color);\n",
              "    border: none;\n",
              "    border-radius: 50%;\n",
              "    cursor: pointer;\n",
              "    display: none;\n",
              "    fill: var(--fill-color);\n",
              "    height: 32px;\n",
              "    padding: 0;\n",
              "    width: 32px;\n",
              "  }\n",
              "\n",
              "  .colab-df-quickchart:hover {\n",
              "    background-color: var(--hover-bg-color);\n",
              "    box-shadow: 0 1px 2px rgba(60, 64, 67, 0.3), 0 1px 3px 1px rgba(60, 64, 67, 0.15);\n",
              "    fill: var(--button-hover-fill-color);\n",
              "  }\n",
              "\n",
              "  .colab-df-quickchart-complete:disabled,\n",
              "  .colab-df-quickchart-complete:disabled:hover {\n",
              "    background-color: var(--disabled-bg-color);\n",
              "    fill: var(--disabled-fill-color);\n",
              "    box-shadow: none;\n",
              "  }\n",
              "\n",
              "  .colab-df-spinner {\n",
              "    border: 2px solid var(--fill-color);\n",
              "    border-color: transparent;\n",
              "    border-bottom-color: var(--fill-color);\n",
              "    animation:\n",
              "      spin 1s steps(1) infinite;\n",
              "  }\n",
              "\n",
              "  @keyframes spin {\n",
              "    0% {\n",
              "      border-color: transparent;\n",
              "      border-bottom-color: var(--fill-color);\n",
              "      border-left-color: var(--fill-color);\n",
              "    }\n",
              "    20% {\n",
              "      border-color: transparent;\n",
              "      border-left-color: var(--fill-color);\n",
              "      border-top-color: var(--fill-color);\n",
              "    }\n",
              "    30% {\n",
              "      border-color: transparent;\n",
              "      border-left-color: var(--fill-color);\n",
              "      border-top-color: var(--fill-color);\n",
              "      border-right-color: var(--fill-color);\n",
              "    }\n",
              "    40% {\n",
              "      border-color: transparent;\n",
              "      border-right-color: var(--fill-color);\n",
              "      border-top-color: var(--fill-color);\n",
              "    }\n",
              "    60% {\n",
              "      border-color: transparent;\n",
              "      border-right-color: var(--fill-color);\n",
              "    }\n",
              "    80% {\n",
              "      border-color: transparent;\n",
              "      border-right-color: var(--fill-color);\n",
              "      border-bottom-color: var(--fill-color);\n",
              "    }\n",
              "    90% {\n",
              "      border-color: transparent;\n",
              "      border-bottom-color: var(--fill-color);\n",
              "    }\n",
              "  }\n",
              "</style>\n",
              "\n",
              "  <script>\n",
              "    async function quickchart(key) {\n",
              "      const quickchartButtonEl =\n",
              "        document.querySelector('#' + key + ' button');\n",
              "      quickchartButtonEl.disabled = true;  // To prevent multiple clicks.\n",
              "      quickchartButtonEl.classList.add('colab-df-spinner');\n",
              "      try {\n",
              "        const charts = await google.colab.kernel.invokeFunction(\n",
              "            'suggestCharts', [key], {});\n",
              "      } catch (error) {\n",
              "        console.error('Error during call to suggestCharts:', error);\n",
              "      }\n",
              "      quickchartButtonEl.classList.remove('colab-df-spinner');\n",
              "      quickchartButtonEl.classList.add('colab-df-quickchart-complete');\n",
              "    }\n",
              "    (() => {\n",
              "      let quickchartButtonEl =\n",
              "        document.querySelector('#df-d608a500-1ec9-4057-b99e-d69dfdd50060 button');\n",
              "      quickchartButtonEl.style.display =\n",
              "        google.colab.kernel.accessAllowed ? 'block' : 'none';\n",
              "    })();\n",
              "  </script>\n",
              "</div>\n",
              "\n",
              "    </div>\n",
              "  </div>\n"
            ],
            "application/vnd.google.colaboratory.intrinsic+json": {
              "type": "dataframe",
              "repr_error": "0"
            }
          },
          "metadata": {},
          "execution_count": 75
        }
      ]
    },
    {
      "cell_type": "markdown",
      "source": [
        "The only 3 rows where language is missing are missing the original text, so we'll discard them."
      ],
      "metadata": {
        "id": "peqUklAw_XG3"
      },
      "id": "peqUklAw_XG3"
    },
    {
      "cell_type": "code",
      "source": [
        "# drop rows where 'lang' is NaN\n",
        "tweet_df = tweet_df.dropna(subset=['lang'])\n",
        "\n",
        "# verify the changes\n",
        "print(f\"Number of NaNs in 'lang' after dropping: {sum(tweet_df.lang.isna())}\")\n",
        "\n",
        "# drop the lang column from the df\n",
        "tweet_df.drop(columns=['lang'], inplace=True)"
      ],
      "metadata": {
        "colab": {
          "base_uri": "https://localhost:8080/"
        },
        "id": "UVXP7Mdl-_JG",
        "outputId": "0f7043eb-7711-4e91-f0b2-30146e7a8c17"
      },
      "id": "UVXP7Mdl-_JG",
      "execution_count": 76,
      "outputs": [
        {
          "output_type": "stream",
          "name": "stdout",
          "text": [
            "Number of NaNs in 'lang' after dropping: 0\n"
          ]
        },
        {
          "output_type": "stream",
          "name": "stderr",
          "text": [
            "<ipython-input-76-2992a6e36ebc>:8: SettingWithCopyWarning: \n",
            "A value is trying to be set on a copy of a slice from a DataFrame\n",
            "\n",
            "See the caveats in the documentation: https://pandas.pydata.org/pandas-docs/stable/user_guide/indexing.html#returning-a-view-versus-a-copy\n",
            "  tweet_df.drop(columns=['lang'], inplace=True)\n"
          ]
        }
      ]
    },
    {
      "cell_type": "code",
      "source": [
        "#rename place column to location for clarity\n",
        "tweet_df = tweet_df.rename(columns={'place': 'location'})"
      ],
      "metadata": {
        "id": "VDUco94l_msI"
      },
      "id": "VDUco94l_msI",
      "execution_count": 77,
      "outputs": []
    },
    {
      "cell_type": "code",
      "source": [
        "# count of NaNs\n",
        "sum(tweet_df.location.isna())"
      ],
      "metadata": {
        "colab": {
          "base_uri": "https://localhost:8080/"
        },
        "id": "IRZGktsdBCU8",
        "outputId": "5bd6fe3a-83cd-4bb3-ae36-f3bc49c200c1"
      },
      "id": "IRZGktsdBCU8",
      "execution_count": 100,
      "outputs": [
        {
          "output_type": "execute_result",
          "data": {
            "text/plain": [
              "0"
            ]
          },
          "metadata": {},
          "execution_count": 100
        }
      ]
    },
    {
      "cell_type": "code",
      "source": [
        "# fill location NaNs with Unknown\n",
        "tweet_df.fillna(value={'location':'Unknown'}, inplace=True)"
      ],
      "metadata": {
        "id": "DElV9lreBbuR"
      },
      "id": "DElV9lreBbuR",
      "execution_count": 101,
      "outputs": []
    },
    {
      "cell_type": "markdown",
      "source": [
        "### Data Cleaning.\n",
        "\n",
        "Here we'll see if location can be cleaned up for further visualization. We'll start with checking the locations with at least 10 tweets.  "
      ],
      "metadata": {
        "id": "QltD9yKyKM2i"
      },
      "id": "QltD9yKyKM2i"
    },
    {
      "cell_type": "code",
      "source": [
        "# calculate value counts for the 'location' column\n",
        "location_counts = tweet_df.location.value_counts()\n",
        "\n",
        "# filter to keep locations with at least 20 occurrences\n",
        "filtered_locations = location_counts[location_counts >= 10]\n",
        "\n",
        "# fisplay the filtered results\n",
        "print(filtered_locations)"
      ],
      "metadata": {
        "colab": {
          "base_uri": "https://localhost:8080/"
        },
        "id": "v7mKo2s6BNWZ",
        "outputId": "f9d723a9-42fb-4327-de70-944304658663"
      },
      "id": "v7mKo2s6BNWZ",
      "execution_count": 80,
      "outputs": [
        {
          "output_type": "stream",
          "name": "stdout",
          "text": [
            "location\n",
            "Unknown                    118146\n",
            "United States                4539\n",
            "India                        4283\n",
            "London                       2646\n",
            "London, England              2638\n",
            "                            ...  \n",
            "Republic of Korea              10\n",
            "Whitby, Ontario, Canada        10\n",
            "Appleton, WI                   10\n",
            "Malmo, Sweden                  10\n",
            "Dhanbad, India                 10\n",
            "Name: count, Length: 2748, dtype: int64\n"
          ]
        }
      ]
    },
    {
      "cell_type": "markdown",
      "source": [
        "Next, we'll check the locations with the special characters (non-alphanumeric that are not the ```-,.```)."
      ],
      "metadata": {
        "id": "yJbEJxdeTk6I"
      },
      "id": "yJbEJxdeTk6I"
    },
    {
      "cell_type": "code",
      "source": [
        "# define a function to check for special characters\n",
        "def has_special_chars(location):\n",
        "    return bool(re.search(r'[^\\w\\s,.-]', location))  # check for non-alphanumeric and non-space chars\n",
        "\n",
        "# apply the function to create a boolean mask\n",
        "special_chars_mask = tweet_df['location'].apply(has_special_chars)\n",
        "\n",
        "# filter the DataFrame and get value counts\n",
        "locations_with_special_chars = tweet_df.loc[special_chars_mask, 'location'].value_counts()\n",
        "\n",
        "# display the result\n",
        "print(locations_with_special_chars)"
      ],
      "metadata": {
        "id": "q7Kf4O_JSdrL",
        "outputId": "3314a89a-0224-4285-a18b-4f21058d5b50",
        "colab": {
          "base_uri": "https://localhost:8080/"
        }
      },
      "id": "q7Kf4O_JSdrL",
      "execution_count": 81,
      "outputs": [
        {
          "output_type": "stream",
          "name": "stdout",
          "text": [
            "location\n",
            "भारत                              211\n",
            "കേരളം                             155\n",
            "नई दिल्ली, भारत                    87\n",
            "she/her                            81\n",
            "मुंबई, भारत                        80\n",
            "                                 ... \n",
            "God’s Country....                   1\n",
            "Oakville/Liberty Village/FMTY✈      1\n",
            "Photo : Blue Mountains              1\n",
            "#ConstitutionalSweatEquity 🗽        1\n",
            "USA  🇺🇲                             1\n",
            "Name: count, Length: 16221, dtype: int64\n"
          ]
        }
      ]
    },
    {
      "cell_type": "markdown",
      "source": [
        " We'll try to salvage the locations by using the first or the last word in a multi-word location. Otherwise, set it to the 'Unknown'."
      ],
      "metadata": {
        "id": "nXn706c4VKH0"
      },
      "id": "nXn706c4VKH0"
    },
    {
      "cell_type": "code",
      "source": [
        "# create a boolean mask for one-word locations, those we won't be able to automatically ID\n",
        "one_word_mask = locations_with_special_chars.index.str.split().str.len() == 1\n",
        "one_word_locations = locations_with_special_chars[one_word_mask].index\n",
        "\n",
        "# replace those locations in the original DataFrame with 'Unknown'\n",
        "tweet_df['location'] = tweet_df['location'].replace(one_word_locations, 'Unknown')"
      ],
      "metadata": {
        "id": "NzY9yF_YUIKv"
      },
      "id": "NzY9yF_YUIKv",
      "execution_count": 82,
      "outputs": []
    },
    {
      "cell_type": "markdown",
      "source": [
        "The explanation for ```geocode_location``` function:\n",
        "* It utilizes the geocoding API. We give it a location (string), and it returns a best(first) guess for the location. For example, if I give it ```Paris```, it will return ```Paris, France``` and not ```Paris, Texas```.\n",
        "* It executes slowly."
      ],
      "metadata": {
        "id": "Xd9iepNmWjnz"
      },
      "id": "Xd9iepNmWjnz"
    },
    {
      "cell_type": "code",
      "source": [
        "# initialize geolocator globally\n",
        "geolocator = Nominatim(user_agent=\"batch-geocoding\")\n",
        "\n",
        "# dictionary to cache geocoding results\n",
        "location_cache = {}\n",
        "\n",
        "# supplemental function to use a geocoding API for location resolution\n",
        "def geocode_location(location):\n",
        "    \"\"\"\n",
        "    Resolve location using a geocoding API with caching.\n",
        "    \"\"\"\n",
        "    # check cache first\n",
        "    if location in location_cache:\n",
        "        return location_cache[location]\n",
        "\n",
        "    try:\n",
        "        geo = geolocator.geocode(location, timeout=5)\n",
        "        if geo:\n",
        "          if isinstance(geo, list):  # check if multiple locations are returned\n",
        "          # Choose the first location from the list\n",
        "            geo = geo[0]\n",
        "          result = geo.address\n",
        "        else:\n",
        "            result = \"Unknown\"\n",
        "    except (GeocoderTimedOut, GeocoderServiceError) as e:\n",
        "        result = f\"Error: {e}\"\n",
        "\n",
        "    # cache the result\n",
        "    location_cache[location] = result\n",
        "    return result"
      ],
      "metadata": {
        "id": "K-R6PSDqK8bf"
      },
      "id": "K-R6PSDqK8bf",
      "execution_count": 83,
      "outputs": []
    },
    {
      "cell_type": "code",
      "source": [
        "# test it on few entries\n",
        "print(geocode_location('New York, NY'))\n",
        "print(geocode_location('Toronto, Ontario'))\n",
        "print(geocode_location('Africa and the web'))"
      ],
      "metadata": {
        "colab": {
          "base_uri": "https://localhost:8080/"
        },
        "id": "J7zg7xziM9yi",
        "outputId": "90136b3c-ed5f-4468-ff5c-6552d12e5439"
      },
      "id": "J7zg7xziM9yi",
      "execution_count": 85,
      "outputs": [
        {
          "output_type": "stream",
          "name": "stdout",
          "text": [
            "City of New York, New York, United States\n",
            "Toronto, Golden Horseshoe, Ontario, Canada\n",
            "Unknown\n"
          ]
        }
      ]
    },
    {
      "cell_type": "markdown",
      "source": [
        "Additionally, we'll implement parallel optimization."
      ],
      "metadata": {
        "id": "ygHbOge8X0EU"
      },
      "id": "ygHbOge8X0EU"
    },
    {
      "cell_type": "code",
      "source": [
        "# geocode multiple locations in parallel using ThreadPoolExecutor\n",
        "def batch_geocode(locations):\n",
        "    \"\"\"\n",
        "    Geocode multiple locations in parallel using ThreadPoolExecutor.\n",
        "    \"\"\"\n",
        "    results = []\n",
        "    with ThreadPoolExecutor(max_workers=5) as executor:  # max_workers can be adjusted as needed\n",
        "        # Use tqdm to wrap the executor's map method for progress tracking\n",
        "        for result in tqdm(executor.map(geocode_location, locations), \\\n",
        "                           total=len(locations), desc=\"Geocoding Progress\"):\n",
        "            results.append(result)\n",
        "    return results"
      ],
      "metadata": {
        "id": "zke5c4dL8W-m"
      },
      "id": "zke5c4dL8W-m",
      "execution_count": 84,
      "outputs": []
    },
    {
      "cell_type": "code",
      "source": [
        "# before applying, do minor cleaning: replace 'unknown' with 'Unknown'\n",
        "tweet_df.location.replace('unknown', 'Unknown')"
      ],
      "metadata": {
        "id": "TIdeQFu-PxRd",
        "outputId": "4f434008-e261-4e9b-e04a-351a5a54ca64",
        "colab": {
          "base_uri": "https://localhost:8080/",
          "height": 458
        }
      },
      "id": "TIdeQFu-PxRd",
      "execution_count": 86,
      "outputs": [
        {
          "output_type": "execute_result",
          "data": {
            "text/plain": [
              "0                         Nairobi, Kenya\n",
              "1                                Unknown\n",
              "2                               Sidheart\n",
              "3                 ÜT: 51.511924,-0.22414\n",
              "4                                  India\n",
              "                       ...              \n",
              "411882                           Unknown\n",
              "411883     Airport Heights Campus, NUST.\n",
              "411884    Melbourne, Victoria, Australia\n",
              "411885                   Kampala, Uganda\n",
              "411886     قائدتحریک جدید۔تربیت ۔اشاعت  \n",
              "Name: location, Length: 411884, dtype: object"
            ],
            "text/html": [
              "<div>\n",
              "<style scoped>\n",
              "    .dataframe tbody tr th:only-of-type {\n",
              "        vertical-align: middle;\n",
              "    }\n",
              "\n",
              "    .dataframe tbody tr th {\n",
              "        vertical-align: top;\n",
              "    }\n",
              "\n",
              "    .dataframe thead th {\n",
              "        text-align: right;\n",
              "    }\n",
              "</style>\n",
              "<table border=\"1\" class=\"dataframe\">\n",
              "  <thead>\n",
              "    <tr style=\"text-align: right;\">\n",
              "      <th></th>\n",
              "      <th>location</th>\n",
              "    </tr>\n",
              "  </thead>\n",
              "  <tbody>\n",
              "    <tr>\n",
              "      <th>0</th>\n",
              "      <td>Nairobi, Kenya</td>\n",
              "    </tr>\n",
              "    <tr>\n",
              "      <th>1</th>\n",
              "      <td>Unknown</td>\n",
              "    </tr>\n",
              "    <tr>\n",
              "      <th>2</th>\n",
              "      <td>Sidheart</td>\n",
              "    </tr>\n",
              "    <tr>\n",
              "      <th>3</th>\n",
              "      <td>ÜT: 51.511924,-0.22414</td>\n",
              "    </tr>\n",
              "    <tr>\n",
              "      <th>4</th>\n",
              "      <td>India</td>\n",
              "    </tr>\n",
              "    <tr>\n",
              "      <th>...</th>\n",
              "      <td>...</td>\n",
              "    </tr>\n",
              "    <tr>\n",
              "      <th>411882</th>\n",
              "      <td>Unknown</td>\n",
              "    </tr>\n",
              "    <tr>\n",
              "      <th>411883</th>\n",
              "      <td>Airport Heights Campus, NUST.</td>\n",
              "    </tr>\n",
              "    <tr>\n",
              "      <th>411884</th>\n",
              "      <td>Melbourne, Victoria, Australia</td>\n",
              "    </tr>\n",
              "    <tr>\n",
              "      <th>411885</th>\n",
              "      <td>Kampala, Uganda</td>\n",
              "    </tr>\n",
              "    <tr>\n",
              "      <th>411886</th>\n",
              "      <td>قائدتحریک جدید۔تربیت ۔اشاعت</td>\n",
              "    </tr>\n",
              "  </tbody>\n",
              "</table>\n",
              "<p>411884 rows × 1 columns</p>\n",
              "</div><br><label><b>dtype:</b> object</label>"
            ]
          },
          "metadata": {},
          "execution_count": 86
        }
      ]
    },
    {
      "cell_type": "code",
      "source": [
        "# calculate value counts for the 'location' column\n",
        "location_counts = tweet_df.location.value_counts()\n",
        "\n",
        "# filter to keep locations with at least 20 occurrences\n",
        "filtered_locations = location_counts[location_counts >= 10]\n",
        "\n",
        "# remove 'Unknown' from filtered_locations\n",
        "filtered_locations_known = filtered_locations[filtered_locations.index != 'Unknown']\n",
        "\n",
        "# create a boolean mask for locations in filtered_locations_known\n",
        "mask = tweet_df['location'].isin(filtered_locations_known.index)\n",
        "\n",
        "# get unique locations from the filtered DataFrame\n",
        "unique_locations = tweet_df.loc[mask, 'location'].unique()"
      ],
      "metadata": {
        "id": "bNgR_KIOWndU"
      },
      "id": "bNgR_KIOWndU",
      "execution_count": 87,
      "outputs": []
    },
    {
      "cell_type": "code",
      "source": [
        "# apply geocode_location only to the selected locations in parallel\n",
        "geocoded_results = dict(zip(unique_locations, batch_geocode(unique_locations)))\n",
        "\n",
        "# map the results back to the DataFrame\n",
        "tweet_df.loc[mask, 'geocoded_location'] = tweet_df.loc[mask, 'location'].map(geocoded_results)"
      ],
      "metadata": {
        "id": "aKl7CyUDNBMf",
        "outputId": "ece30c26-6631-4efc-927e-64df992019db",
        "colab": {
          "base_uri": "https://localhost:8080/"
        }
      },
      "id": "aKl7CyUDNBMf",
      "execution_count": 88,
      "outputs": [
        {
          "output_type": "stream",
          "name": "stderr",
          "text": [
            "Geocoding Progress:   0%|          | 8/2713 [00:07<41:38,  1.08it/s]WARNING:urllib3.connectionpool:Retrying (Retry(total=1, connect=None, read=None, redirect=None, status=None)) after connection broken by 'ReadTimeoutError(\"HTTPSConnectionPool(host='nominatim.openstreetmap.org', port=443): Read timed out. (read timeout=5)\")': /search?q=Mumbai%2C+India&format=json&limit=1\n",
            "WARNING:urllib3.connectionpool:Retrying (Retry(total=1, connect=None, read=None, redirect=None, status=None)) after connection broken by 'ReadTimeoutError(\"HTTPSConnectionPool(host='nominatim.openstreetmap.org', port=443): Read timed out. (read timeout=5)\")': /search?q=Cape+Town%2C+South+Africa&format=json&limit=1\n",
            "WARNING:urllib3.connectionpool:Retrying (Retry(total=1, connect=None, read=None, redirect=None, status=None)) after connection broken by 'ReadTimeoutError(\"HTTPSConnectionPool(host='nominatim.openstreetmap.org', port=443): Read timed out. (read timeout=5)\")': /search?q=+England&format=json&limit=1\n",
            "WARNING:urllib3.connectionpool:Retrying (Retry(total=1, connect=None, read=None, redirect=None, status=None)) after connection broken by 'ReadTimeoutError(\"HTTPSConnectionPool(host='nominatim.openstreetmap.org', port=443): Read timed out. (read timeout=5)\")': /search?q=Cymru+%2F+Wales&format=json&limit=1\n",
            "Geocoding Progress:   0%|          | 12/2713 [00:16<1:06:13,  1.47s/it]WARNING:urllib3.connectionpool:Retrying (Retry(total=1, connect=None, read=None, redirect=None, status=None)) after connection broken by 'ReadTimeoutError(\"HTTPSConnectionPool(host='nominatim.openstreetmap.org', port=443): Read timed out. (read timeout=5)\")': /search?q=Chicago%2C+IL&format=json&limit=1\n",
            "WARNING:urllib3.connectionpool:Retrying (Retry(total=1, connect=None, read=None, redirect=None, status=None)) after connection broken by 'ReadTimeoutError(\"HTTPSConnectionPool(host='nominatim.openstreetmap.org', port=443): Read timed out. (read timeout=5)\")': /search?q=London%2C+England&format=json&limit=1\n",
            "WARNING:urllib3.connectionpool:Retrying (Retry(total=1, connect=None, read=None, redirect=None, status=None)) after connection broken by 'ReadTimeoutError(\"HTTPSConnectionPool(host='nominatim.openstreetmap.org', port=443): Read timed out. (read timeout=5)\")': /search?q=Bathgate+Scotland&format=json&limit=1\n",
            "Geocoding Progress:   1%|          | 21/2713 [00:27<43:28,  1.03it/s]  WARNING:urllib3.connectionpool:Retrying (Retry(total=1, connect=None, read=None, redirect=None, status=None)) after connection broken by 'ReadTimeoutError(\"HTTPSConnectionPool(host='nominatim.openstreetmap.org', port=443): Read timed out. (read timeout=5)\")': /search?q=Roma&format=json&limit=1\n",
            "WARNING:urllib3.connectionpool:Retrying (Retry(total=1, connect=None, read=None, redirect=None, status=None)) after connection broken by 'ReadTimeoutError(\"HTTPSConnectionPool(host='nominatim.openstreetmap.org', port=443): Read timed out. (read timeout=5)\")': /search?q=Brisbane%2C+Queensland&format=json&limit=1\n",
            "Geocoding Progress:   1%|          | 22/2713 [00:33<1:21:50,  1.82s/it]WARNING:urllib3.connectionpool:Retrying (Retry(total=1, connect=None, read=None, redirect=None, status=None)) after connection broken by 'ReadTimeoutError(\"HTTPSConnectionPool(host='nominatim.openstreetmap.org', port=443): Read timed out. (read timeout=5)\")': /search?q=New+Delhi%2C+Delhi&format=json&limit=1\n",
            "Geocoding Progress:   1%|          | 24/2713 [00:35<1:09:51,  1.56s/it]WARNING:urllib3.connectionpool:Retrying (Retry(total=1, connect=None, read=None, redirect=None, status=None)) after connection broken by 'ReadTimeoutError(\"HTTPSConnectionPool(host='nominatim.openstreetmap.org', port=443): Read timed out. (read timeout=5)\")': /search?q=Pakistan&format=json&limit=1\n",
            "Geocoding Progress:   1%|          | 27/2713 [00:39<1:05:36,  1.47s/it]WARNING:urllib3.connectionpool:Retrying (Retry(total=1, connect=None, read=None, redirect=None, status=None)) after connection broken by 'ReadTimeoutError(\"HTTPSConnectionPool(host='nominatim.openstreetmap.org', port=443): Read timed out. (read timeout=5)\")': /search?q=Gurgaon%2C+India&format=json&limit=1\n",
            "Geocoding Progress:   1%|          | 28/2713 [00:41<1:09:08,  1.55s/it]WARNING:urllib3.connectionpool:Retrying (Retry(total=1, connect=None, read=None, redirect=None, status=None)) after connection broken by 'ReadTimeoutError(\"HTTPSConnectionPool(host='nominatim.openstreetmap.org', port=443): Read timed out. (read timeout=5)\")': /search?q=Harare%2C+Zimbabwe&format=json&limit=1\n",
            "Geocoding Progress:   1%|          | 31/2713 [00:45<1:05:06,  1.46s/it]WARNING:urllib3.connectionpool:Retrying (Retry(total=1, connect=None, read=None, redirect=None, status=None)) after connection broken by 'ReadTimeoutError(\"HTTPSConnectionPool(host='nominatim.openstreetmap.org', port=443): Read timed out. (read timeout=5)\")': /search?q=London%2C+UK&format=json&limit=1\n",
            "WARNING:urllib3.connectionpool:Retrying (Retry(total=1, connect=None, read=None, redirect=None, status=None)) after connection broken by 'ReadTimeoutError(\"HTTPSConnectionPool(host='nominatim.openstreetmap.org', port=443): Read timed out. (read timeout=5)\")': /search?q=Perth&format=json&limit=1\n",
            "Geocoding Progress:   1%|          | 33/2713 [00:48<1:05:57,  1.48s/it]WARNING:urllib3.connectionpool:Retrying (Retry(total=1, connect=None, read=None, redirect=None, status=None)) after connection broken by 'ReadTimeoutError(\"HTTPSConnectionPool(host='nominatim.openstreetmap.org', port=443): Read timed out. (read timeout=5)\")': /search?q=Sunderland%2C+England&format=json&limit=1\n",
            "WARNING:urllib3.connectionpool:Retrying (Retry(total=1, connect=None, read=None, redirect=None, status=None)) after connection broken by 'ReadTimeoutError(\"HTTPSConnectionPool(host='nominatim.openstreetmap.org', port=443): Read timed out. (read timeout=5)\")': /search?q=Melbourne%2C+Australia&format=json&limit=1\n",
            "Geocoding Progress:   1%|▏         | 36/2713 [00:52<1:02:21,  1.40s/it]WARNING:urllib3.connectionpool:Retrying (Retry(total=1, connect=None, read=None, redirect=None, status=None)) after connection broken by 'ReadTimeoutError(\"HTTPSConnectionPool(host='nominatim.openstreetmap.org', port=443): Read timed out. (read timeout=5)\")': /search?q=Ohio%2C+USA&format=json&limit=1\n",
            "Geocoding Progress:   1%|▏         | 38/2713 [00:55<1:03:52,  1.43s/it]WARNING:urllib3.connectionpool:Retrying (Retry(total=1, connect=None, read=None, redirect=None, status=None)) after connection broken by 'ReadTimeoutError(\"HTTPSConnectionPool(host='nominatim.openstreetmap.org', port=443): Read timed out. (read timeout=5)\")': /search?q=Missouri%2C+USA&format=json&limit=1\n",
            "WARNING:urllib3.connectionpool:Retrying (Retry(total=1, connect=None, read=None, redirect=None, status=None)) after connection broken by 'ReadTimeoutError(\"HTTPSConnectionPool(host='nominatim.openstreetmap.org', port=443): Read timed out. (read timeout=5)\")': /search?q=San+Jose%2C+CA&format=json&limit=1\n",
            "Geocoding Progress:   2%|▏         | 44/2713 [01:03<44:38,  1.00s/it]  WARNING:urllib3.connectionpool:Retrying (Retry(total=1, connect=None, read=None, redirect=None, status=None)) after connection broken by 'ReadTimeoutError(\"HTTPSConnectionPool(host='nominatim.openstreetmap.org', port=443): Read timed out. (read timeout=5)\")': /search?q=Sydney&format=json&limit=1\n",
            "Geocoding Progress:   2%|▏         | 45/2713 [01:05<52:30,  1.18s/it]WARNING:urllib3.connectionpool:Retrying (Retry(total=1, connect=None, read=None, redirect=None, status=None)) after connection broken by 'ReadTimeoutError(\"HTTPSConnectionPool(host='nominatim.openstreetmap.org', port=443): Read timed out. (read timeout=5)\")': /search?q=Nigeria&format=json&limit=1\n",
            "Geocoding Progress:  52%|█████▏    | 1402/2713 [12:22<11:21,  1.92it/s]WARNING:urllib3.connectionpool:Retrying (Retry(total=1, connect=None, read=None, redirect=None, status=None)) after connection broken by 'ReadTimeoutError(\"HTTPSConnectionPool(host='nominatim.openstreetmap.org', port=443): Read timed out. (read timeout=5)\")': /search?q=NE+Ohio&format=json&limit=1\n",
            "Geocoding Progress:  61%|██████▏   | 1665/2713 [14:35<08:41,  2.01it/s]WARNING:urllib3.connectionpool:Retrying (Retry(total=1, connect=None, read=None, redirect=None, status=None)) after connection broken by 'ReadTimeoutError(\"HTTPSConnectionPool(host='nominatim.openstreetmap.org', port=443): Read timed out. (read timeout=5)\")': /search?q=%EB%8C%80%ED%95%9C%EB%AF%BC%EA%B5%AD+%EC%84%9C%EC%9A%B8&format=json&limit=1\n",
            "Geocoding Progress: 100%|██████████| 2713/2713 [20:26<00:00,  2.21it/s]\n"
          ]
        }
      ]
    },
    {
      "cell_type": "code",
      "source": [
        "# check value counts\n",
        "tweet_df['geocoded_location'].value_counts()"
      ],
      "metadata": {
        "colab": {
          "base_uri": "https://localhost:8080/",
          "height": 490
        },
        "id": "4HJk5wdYNxyJ",
        "outputId": "ca6ae61f-011c-4852-8c40-0b79913ca350"
      },
      "id": "4HJk5wdYNxyJ",
      "execution_count": 92,
      "outputs": [
        {
          "output_type": "execute_result",
          "data": {
            "text/plain": [
              "geocoded_location\n",
              "United States                                                                          7148\n",
              "London, Greater London, England, United Kingdom                                        6499\n",
              "India                                                                                  5061\n",
              "City of New York, New York, United States                                              4297\n",
              "Washington, District of Columbia, United States                                        3511\n",
              "                                                                                       ... \n",
              "بلوچستان, پاکستان                                                                        10\n",
              "North Highlands, Town of Philipstown, Putnam County, New York, 10516, United States      10\n",
              "Dothan, Houston County, Alabama, United States                                           10\n",
              "Venus, Johnson County, Texas, 76084, United States                                       10\n",
              "South Australia, Australia                                                               10\n",
              "Name: count, Length: 1610, dtype: int64"
            ],
            "text/html": [
              "<div>\n",
              "<style scoped>\n",
              "    .dataframe tbody tr th:only-of-type {\n",
              "        vertical-align: middle;\n",
              "    }\n",
              "\n",
              "    .dataframe tbody tr th {\n",
              "        vertical-align: top;\n",
              "    }\n",
              "\n",
              "    .dataframe thead th {\n",
              "        text-align: right;\n",
              "    }\n",
              "</style>\n",
              "<table border=\"1\" class=\"dataframe\">\n",
              "  <thead>\n",
              "    <tr style=\"text-align: right;\">\n",
              "      <th></th>\n",
              "      <th>count</th>\n",
              "    </tr>\n",
              "    <tr>\n",
              "      <th>geocoded_location</th>\n",
              "      <th></th>\n",
              "    </tr>\n",
              "  </thead>\n",
              "  <tbody>\n",
              "    <tr>\n",
              "      <th>United States</th>\n",
              "      <td>7148</td>\n",
              "    </tr>\n",
              "    <tr>\n",
              "      <th>London, Greater London, England, United Kingdom</th>\n",
              "      <td>6499</td>\n",
              "    </tr>\n",
              "    <tr>\n",
              "      <th>India</th>\n",
              "      <td>5061</td>\n",
              "    </tr>\n",
              "    <tr>\n",
              "      <th>City of New York, New York, United States</th>\n",
              "      <td>4297</td>\n",
              "    </tr>\n",
              "    <tr>\n",
              "      <th>Washington, District of Columbia, United States</th>\n",
              "      <td>3511</td>\n",
              "    </tr>\n",
              "    <tr>\n",
              "      <th>...</th>\n",
              "      <td>...</td>\n",
              "    </tr>\n",
              "    <tr>\n",
              "      <th>بلوچستان, پاکستان</th>\n",
              "      <td>10</td>\n",
              "    </tr>\n",
              "    <tr>\n",
              "      <th>North Highlands, Town of Philipstown, Putnam County, New York, 10516, United States</th>\n",
              "      <td>10</td>\n",
              "    </tr>\n",
              "    <tr>\n",
              "      <th>Dothan, Houston County, Alabama, United States</th>\n",
              "      <td>10</td>\n",
              "    </tr>\n",
              "    <tr>\n",
              "      <th>Venus, Johnson County, Texas, 76084, United States</th>\n",
              "      <td>10</td>\n",
              "    </tr>\n",
              "    <tr>\n",
              "      <th>South Australia, Australia</th>\n",
              "      <td>10</td>\n",
              "    </tr>\n",
              "  </tbody>\n",
              "</table>\n",
              "<p>1610 rows × 1 columns</p>\n",
              "</div><br><label><b>dtype:</b> int64</label>"
            ]
          },
          "metadata": {},
          "execution_count": 92
        }
      ]
    },
    {
      "cell_type": "markdown",
      "source": [
        "Continue location data cleaning. For all undecoded ```geocoded_location```, try to apply first then last words of ```location```."
      ],
      "metadata": {
        "id": "rmtVoVogWUIG"
      },
      "id": "rmtVoVogWUIG"
    },
    {
      "cell_type": "code",
      "source": [
        "# create a mask for rows where 'geocoded_location' is 'Unknown'\n",
        "unknown_mask = tweet_df['geocoded_location'] == 'Unknown'"
      ],
      "metadata": {
        "id": "RPaiRCv8PNLn"
      },
      "id": "RPaiRCv8PNLn",
      "execution_count": 90,
      "outputs": []
    },
    {
      "cell_type": "code",
      "source": [
        "# function to extract the first or last word from a location string\n",
        "def extract_word(location, position=\"first\"):\n",
        "    words = location.split()\n",
        "    if words:\n",
        "        return words[0] if position == \"first\" else words[-1]\n",
        "    return \"Unknown\"\n",
        "\n",
        "# extract FIRST word from 'location' for 'Unknown' geocoded rows and batch process\n",
        "if unknown_mask.any():\n",
        "    first_words = tweet_df.loc[unknown_mask, 'location'].apply(lambda loc: extract_word(loc, position=\"first\"))\n",
        "    unique_first_words = first_words.unique()\n",
        "\n",
        "    # create a dictionary mapping to map unique first words to geocoded results\n",
        "    first_word_mapping = dict(zip(unique_first_words, first_word_results))\n",
        "\n",
        "    # map the results back to the DataFrame\n",
        "    tweet_df.loc[unknown_mask, 'geocoded_location'] = first_words.map(first_word_mapping)\n",
        "\n",
        "# update the mask for remaining 'Unknown' rows\n",
        "unknown_mask = tweet_df['geocoded_location'] == 'Unknown'\n",
        "\n",
        "# extract LAST word from 'location' for remaining 'Unknown' rows and batch process\n",
        "if unknown_mask.any():\n",
        "    last_words = tweet_df.loc[unknown_mask, 'location'].apply(lambda loc: extract_word(loc, position=\"last\"))\n",
        "    unique_last_words = last_words.unique()\n",
        "\n",
        "    # create a dictionary mapping to map unique last words to geocoded results\n",
        "    last_word_mapping = dict(zip(unique_first_words, last_word_results))\n",
        "\n",
        "    # map the results back to the DataFrame\n",
        "    tweet_df.loc[unknown_mask, 'geocoded_location'] = last_words.map(last_word_mapping)\n",
        "\n",
        "# if still 'Unknown', give up\n",
        "unknown_mask = tweet_df['geocoded_location'] == 'Unknown'\n",
        "if unknown_mask.any():\n",
        "    print(f\"Giving up on {unknown_mask.sum()} locations. Could not geocode these entries.\")"
      ],
      "metadata": {
        "id": "WFLeOlypoA6T",
        "outputId": "b211e146-ebf0-40b5-90f2-8706e3d80467",
        "colab": {
          "base_uri": "https://localhost:8080/"
        }
      },
      "id": "WFLeOlypoA6T",
      "execution_count": 96,
      "outputs": [
        {
          "output_type": "stream",
          "name": "stdout",
          "text": [
            "Giving up on 238 locations. Could not geocode these entries.\n",
            "                  id       date  \\\n",
            "0       1.300000e+18 2020-08-20   \n",
            "1       1.300000e+18 2020-08-20   \n",
            "2       1.300000e+18 2020-08-20   \n",
            "3       1.300000e+18 2020-08-20   \n",
            "4       1.300000e+18 2020-08-20   \n",
            "...              ...        ...   \n",
            "411882  1.409140e+18 2021-06-27   \n",
            "411883  1.409140e+18 2021-06-27   \n",
            "411884  1.409130e+18 2021-06-27   \n",
            "411885  1.409130e+18 2021-06-27   \n",
            "411886  1.409130e+18 2021-06-27   \n",
            "\n",
            "                                                   source  \\\n",
            "0       <a href=\"http://twitter.com/download/android\" ...   \n",
            "1       <a href=\"http://twitter.com/download/android\" ...   \n",
            "2       <a href=\"http://twitter.com/download/android\" ...   \n",
            "3       <a href=\"https://about.twitter.com/products/tw...   \n",
            "4       <a href=\"http://twitter.com/download/android\" ...   \n",
            "...                                                   ...   \n",
            "411882  <a href=\"https://mobile.twitter.com\" rel=\"nofo...   \n",
            "411883  <a href=\"https://mobile.twitter.com\" rel=\"nofo...   \n",
            "411884  <a href=\"https://mobile.twitter.com\" rel=\"nofo...   \n",
            "411885  <a href=\"https://mobile.twitter.com\" rel=\"nofo...   \n",
            "411886  <a href=\"http://twitter.com/download/iphone\" r...   \n",
            "\n",
            "                                            original_text  favorite_count  \\\n",
            "0       RT @RobertAlai: 91-year-old Ex-Vice President ...             0.0   \n",
            "1       RT @cnnphilippines: BREAKING: The Department o...             0.0   \n",
            "2       RT @latestly: #SidharthShukla Helps Out Fan Wh...             0.0   \n",
            "3       Lending Club loan originations down 90% ... bu...             0.0   \n",
            "4       RT @OpIndia_com: Curious case of ‘United Natio...             0.0   \n",
            "...                                                   ...             ...   \n",
            "411882  Just as the northern hemisphere summer season ...             0.0   \n",
            "411883  COVID 19 TRENDS 2020-2021 https://t.co/tjKMaht...             0.0   \n",
            "411884  Goal is reached: 40 per cent of Chinese get Co...             0.0   \n",
            "411885  Covid-19 and Uganda’s looming political crisis...             0.0   \n",
            "411886  RT @MirzaNasara: Alhamdolillah, we got our sec...             0.0   \n",
            "\n",
            "        retweet_count  original_author                  hashtags  \\\n",
            "0               100.0        kvn_kegan                       NaN   \n",
            "1                38.0       puTOPinamo                       NaN   \n",
            "2                 0.0      DevSidheart  SidharthShukla, Covid_19   \n",
            "3                13.0    Chris_Skinner                       NaN   \n",
            "4               286.0   Yashodhara1010                       NaN   \n",
            "...               ...              ...                       ...   \n",
            "411882            0.0   jmhamiltonblog                       NaN   \n",
            "411883            0.0       CochingcoA                       NaN   \n",
            "411884            0.0  DavidGr07837209                       NaN   \n",
            "411885            0.0         JOBBWIRE                       NaN   \n",
            "411886          221.0     Life_Devotee                       NaN   \n",
            "\n",
            "                    user_mentions                        location  \\\n",
            "0                      RobertAlai                  Nairobi, Kenya   \n",
            "1                  cnnphilippines                         Unknown   \n",
            "2                        latestly                        Sidheart   \n",
            "3                             NaN          ÜT: 51.511924,-0.22414   \n",
            "4       OpIndia_com, LekhakAnurag                           India   \n",
            "...                           ...                             ...   \n",
            "411882                        NaN                         Unknown   \n",
            "411883                    YouTube   Airport Heights Campus, NUST.   \n",
            "411884                   SCMPNews  Melbourne, Victoria, Australia   \n",
            "411885                        NaN                 Kampala, Uganda   \n",
            "411886                MirzaNasara   قائدتحریک جدید۔تربیت ۔اشاعت     \n",
            "\n",
            "                                              clean_tweet  compound    neg  \\\n",
            "0       year old ex vice presid moodi awori land inter...    0.0000  0.000   \n",
            "1       break depart health report peopl caught covid1...    0.0000  0.000   \n",
            "2       help fan request help arrang bed posit father ...    0.7717  0.000   \n",
            "3                          lend club loan origin hey bank    0.0000  0.000   \n",
            "4       curiou case unit nation ngo appreci kingdom ma...    0.0000  0.000   \n",
            "...                                                   ...       ...    ...   \n",
            "411882  northern hemispher summer season kick european...    0.0000  0.000   \n",
            "411883                                  covid19 trend via    0.0000  0.000   \n",
            "411884  goal reach per cent chines get covid19 jab end...    0.0258  0.000   \n",
            "411885                    covid19 uganda loom polit crisi   -0.2263  0.322   \n",
            "411886  alhamdolillah got second dose covid19 vaccin m...    0.4404  0.000   \n",
            "\n",
            "          neu    pos sentiment  \\\n",
            "0       1.000  0.000       neu   \n",
            "1       1.000  0.000       neu   \n",
            "2       0.476  0.524       pos   \n",
            "3       1.000  0.000       neu   \n",
            "4       1.000  0.000       neu   \n",
            "...       ...    ...       ...   \n",
            "411882  1.000  0.000       neu   \n",
            "411883  1.000  0.000       neu   \n",
            "411884  0.901  0.099       pos   \n",
            "411885  0.678  0.000       neg   \n",
            "411886  0.805  0.195       pos   \n",
            "\n",
            "                                        geocoded_location  \n",
            "0                                          Nairobi, Kenya  \n",
            "1                                                     NaN  \n",
            "2                                                     NaN  \n",
            "3                                                     NaN  \n",
            "4                                                   India  \n",
            "...                                                   ...  \n",
            "411882                                                NaN  \n",
            "411883                                                NaN  \n",
            "411884  Melbourne, City of Melbourne, Victoria, Australia  \n",
            "411885                    Kampala, Central Region, Uganda  \n",
            "411886                                                NaN  \n",
            "\n",
            "[411884 rows x 17 columns]\n"
          ]
        }
      ]
    },
    {
      "cell_type": "code",
      "source": [
        "# fill location NaNs with Unknown\n",
        "tweet_df.fillna(value={'geocoded_location':'Unknown'}, inplace=True)"
      ],
      "metadata": {
        "id": "2orl_xq7Yazz"
      },
      "id": "2orl_xq7Yazz",
      "execution_count": 102,
      "outputs": []
    },
    {
      "cell_type": "code",
      "source": [],
      "metadata": {
        "id": "F76hY6qvZJB5"
      },
      "id": "F76hY6qvZJB5",
      "execution_count": null,
      "outputs": []
    }
  ],
  "metadata": {
    "kernelspec": {
      "display_name": "Python 3",
      "name": "python3"
    },
    "language_info": {
      "codemirror_mode": {
        "name": "ipython",
        "version": 3
      },
      "file_extension": ".py",
      "mimetype": "text/x-python",
      "name": "python",
      "nbconvert_exporter": "python",
      "pygments_lexer": "ipython3",
      "version": "3.8.20"
    },
    "colab": {
      "provenance": [],
      "machine_shape": "hm",
      "gpuType": "A100"
    },
    "accelerator": "GPU"
  },
  "nbformat": 4,
  "nbformat_minor": 5
}